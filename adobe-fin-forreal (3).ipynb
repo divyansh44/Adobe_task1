{
 "cells": [
  {
   "cell_type": "code",
   "execution_count": 1,
   "id": "7669baf6",
   "metadata": {
    "execution": {
     "iopub.execute_input": "2024-10-14T14:49:23.715234Z",
     "iopub.status.busy": "2024-10-14T14:49:23.714323Z",
     "iopub.status.idle": "2024-10-14T14:49:36.278855Z",
     "shell.execute_reply": "2024-10-14T14:49:36.277558Z"
    },
    "id": "LD805ZG79xkq",
    "outputId": "f25dc1ba-f252-4772-9ee7-8a77baec70fc",
    "papermill": {
     "duration": 12.596551,
     "end_time": "2024-10-14T14:49:36.281022",
     "exception": false,
     "start_time": "2024-10-14T14:49:23.684471",
     "status": "completed"
    },
    "tags": []
   },
   "outputs": [
    {
     "name": "stdout",
     "output_type": "stream",
     "text": [
      "Requirement already satisfied: timm in /opt/conda/lib/python3.10/site-packages (1.0.9)\r\n",
      "Requirement already satisfied: torch in /opt/conda/lib/python3.10/site-packages (from timm) (2.4.0)\r\n",
      "Requirement already satisfied: torchvision in /opt/conda/lib/python3.10/site-packages (from timm) (0.19.0)\r\n",
      "Requirement already satisfied: pyyaml in /opt/conda/lib/python3.10/site-packages (from timm) (6.0.2)\r\n",
      "Requirement already satisfied: huggingface_hub in /opt/conda/lib/python3.10/site-packages (from timm) (0.25.1)\r\n",
      "Requirement already satisfied: safetensors in /opt/conda/lib/python3.10/site-packages (from timm) (0.4.5)\r\n",
      "Requirement already satisfied: filelock in /opt/conda/lib/python3.10/site-packages (from huggingface_hub->timm) (3.15.1)\r\n",
      "Requirement already satisfied: fsspec>=2023.5.0 in /opt/conda/lib/python3.10/site-packages (from huggingface_hub->timm) (2024.6.1)\r\n",
      "Requirement already satisfied: packaging>=20.9 in /opt/conda/lib/python3.10/site-packages (from huggingface_hub->timm) (21.3)\r\n",
      "Requirement already satisfied: requests in /opt/conda/lib/python3.10/site-packages (from huggingface_hub->timm) (2.32.3)\r\n",
      "Requirement already satisfied: tqdm>=4.42.1 in /opt/conda/lib/python3.10/site-packages (from huggingface_hub->timm) (4.66.4)\r\n",
      "Requirement already satisfied: typing-extensions>=3.7.4.3 in /opt/conda/lib/python3.10/site-packages (from huggingface_hub->timm) (4.12.2)\r\n",
      "Requirement already satisfied: sympy in /opt/conda/lib/python3.10/site-packages (from torch->timm) (1.13.3)\r\n",
      "Requirement already satisfied: networkx in /opt/conda/lib/python3.10/site-packages (from torch->timm) (3.3)\r\n",
      "Requirement already satisfied: jinja2 in /opt/conda/lib/python3.10/site-packages (from torch->timm) (3.1.4)\r\n",
      "Requirement already satisfied: numpy in /opt/conda/lib/python3.10/site-packages (from torchvision->timm) (1.26.4)\r\n",
      "Requirement already satisfied: pillow!=8.3.*,>=5.3.0 in /opt/conda/lib/python3.10/site-packages (from torchvision->timm) (10.3.0)\r\n",
      "Requirement already satisfied: pyparsing!=3.0.5,>=2.0.2 in /opt/conda/lib/python3.10/site-packages (from packaging>=20.9->huggingface_hub->timm) (3.1.2)\r\n",
      "Requirement already satisfied: MarkupSafe>=2.0 in /opt/conda/lib/python3.10/site-packages (from jinja2->torch->timm) (2.1.5)\r\n",
      "Requirement already satisfied: charset-normalizer<4,>=2 in /opt/conda/lib/python3.10/site-packages (from requests->huggingface_hub->timm) (3.3.2)\r\n",
      "Requirement already satisfied: idna<4,>=2.5 in /opt/conda/lib/python3.10/site-packages (from requests->huggingface_hub->timm) (3.7)\r\n",
      "Requirement already satisfied: urllib3<3,>=1.21.1 in /opt/conda/lib/python3.10/site-packages (from requests->huggingface_hub->timm) (1.26.18)\r\n",
      "Requirement already satisfied: certifi>=2017.4.17 in /opt/conda/lib/python3.10/site-packages (from requests->huggingface_hub->timm) (2024.8.30)\r\n",
      "Requirement already satisfied: mpmath<1.4,>=1.1.0 in /opt/conda/lib/python3.10/site-packages (from sympy->torch->timm) (1.3.0)\r\n",
      "Note: you may need to restart the kernel to use updated packages.\n"
     ]
    }
   ],
   "source": [
    "pip install timm"
   ]
  },
  {
   "cell_type": "code",
   "execution_count": 2,
   "id": "3437588e",
   "metadata": {
    "execution": {
     "iopub.execute_input": "2024-10-14T14:49:36.336858Z",
     "iopub.status.busy": "2024-10-14T14:49:36.336457Z",
     "iopub.status.idle": "2024-10-14T14:49:50.876069Z",
     "shell.execute_reply": "2024-10-14T14:49:50.874949Z"
    },
    "id": "h8x6C2nX9-oc",
    "outputId": "10cdfd01-76cc-4ed4-a8fe-0c615dc48a8d",
    "papermill": {
     "duration": 14.570158,
     "end_time": "2024-10-14T14:49:50.878465",
     "exception": false,
     "start_time": "2024-10-14T14:49:36.308307",
     "status": "completed"
    },
    "tags": []
   },
   "outputs": [
    {
     "name": "stdout",
     "output_type": "stream",
     "text": [
      "\r\n",
      "\r\n",
      "\r\n",
      "tesseract-ocr is already the newest version (4.1.1-2.1build1).\r\n",
      "0 upgraded, 0 newly installed, 0 to remove and 68 not upgraded.\r\n",
      "Requirement already satisfied: pytesseract in /opt/conda/lib/python3.10/site-packages (0.3.13)\r\n",
      "Requirement already satisfied: packaging>=21.3 in /opt/conda/lib/python3.10/site-packages (from pytesseract) (21.3)\r\n",
      "Requirement already satisfied: Pillow>=8.0.0 in /opt/conda/lib/python3.10/site-packages (from pytesseract) (10.3.0)\r\n",
      "Requirement already satisfied: pyparsing!=3.0.5,>=2.0.2 in /opt/conda/lib/python3.10/site-packages (from packaging>=21.3->pytesseract) (3.1.2)\r\n"
     ]
    }
   ],
   "source": [
    "!sudo apt install tesseract-ocr\n",
    "!pip install pytesseract"
   ]
  },
  {
   "cell_type": "code",
   "execution_count": 3,
   "id": "264406fc",
   "metadata": {
    "_cell_guid": "b1076dfc-b9ad-4769-8c92-a6c4dae69d19",
    "_uuid": "8f2839f25d086af736a60e9eeb907d3b93b6e0e5",
    "execution": {
     "iopub.execute_input": "2024-10-14T14:49:50.937017Z",
     "iopub.status.busy": "2024-10-14T14:49:50.936165Z",
     "iopub.status.idle": "2024-10-14T14:50:01.450333Z",
     "shell.execute_reply": "2024-10-14T14:50:01.449457Z"
    },
    "id": "As3XoKJ49iJo",
    "outputId": "e447196d-ae01-4cc2-c644-592ee72ad600",
    "papermill": {
     "duration": 10.546029,
     "end_time": "2024-10-14T14:50:01.452711",
     "exception": false,
     "start_time": "2024-10-14T14:49:50.906682",
     "status": "completed"
    },
    "tags": []
   },
   "outputs": [
    {
     "name": "stderr",
     "output_type": "stream",
     "text": [
      "/opt/conda/lib/python3.10/site-packages/albumentations/__init__.py:13: UserWarning: A new version of Albumentations is available: 1.4.18 (you have 1.4.17). Upgrade using: pip install -U albumentations. To disable automatic update checks, set the environment variable NO_ALBUMENTATIONS_UPDATE to 1.\n",
      "  check_for_updates()\n"
     ]
    }
   ],
   "source": [
    "import numpy as np\n",
    "import pandas as pd\n",
    "import requests\n",
    "import concurrent.futures\n",
    "import re\n",
    "import torch\n",
    "import timm\n",
    "from torch.utils.data import DataLoader, Dataset\n",
    "import torchvision.transforms as transforms\n",
    "import torch.optim as optim\n",
    "import torch.nn as nn\n",
    "import albumentations as A\n",
    "from albumentations.pytorch import ToTensorV2\n",
    "import matplotlib.pyplot as plt\n",
    "from PIL import Image\n",
    "from tqdm import tqdm,trange,tqdm_notebook\n",
    "from sklearn.metrics import mean_squared_error,r2_score\n",
    "from sklearn.preprocessing import StandardScaler,MinMaxScaler\n",
    "import time\n",
    "import copy\n",
    "from collections import defaultdict\n",
    "import gc\n",
    "from io import BytesIO\n",
    "import pickle\n",
    "from transformers import BertTokenizer, BertModel\n",
    "import pytesseract\n",
    "device = 'cuda' if torch.cuda.is_available() else 'cpu'"
   ]
  },
  {
   "cell_type": "code",
   "execution_count": 4,
   "id": "474bf6c3",
   "metadata": {
    "execution": {
     "iopub.execute_input": "2024-10-14T14:50:01.511355Z",
     "iopub.status.busy": "2024-10-14T14:50:01.510300Z",
     "iopub.status.idle": "2024-10-14T14:50:05.718756Z",
     "shell.execute_reply": "2024-10-14T14:50:05.717889Z"
    },
    "id": "DoGG3rk_9iJu",
    "papermill": {
     "duration": 4.240011,
     "end_time": "2024-10-14T14:50:05.721179",
     "exception": false,
     "start_time": "2024-10-14T14:50:01.481168",
     "status": "completed"
    },
    "tags": []
   },
   "outputs": [],
   "source": [
    "train = pd.read_csv('/kaggle/input/adobe-task1-train/behaviour_simulation_train.csv')"
   ]
  },
  {
   "cell_type": "code",
   "execution_count": 5,
   "id": "8c39c363",
   "metadata": {
    "execution": {
     "iopub.execute_input": "2024-10-14T14:50:05.779582Z",
     "iopub.status.busy": "2024-10-14T14:50:05.778915Z",
     "iopub.status.idle": "2024-10-14T14:50:07.767635Z",
     "shell.execute_reply": "2024-10-14T14:50:07.766786Z"
    },
    "id": "RARLYNLF9iJv",
    "papermill": {
     "duration": 2.020483,
     "end_time": "2024-10-14T14:50:07.769958",
     "exception": false,
     "start_time": "2024-10-14T14:50:05.749475",
     "status": "completed"
    },
    "tags": []
   },
   "outputs": [],
   "source": [
    "def extract_preview_link(media_str):\n",
    "    gif_match = re.search(r\"Gif\\(thumbnailUrl='(.*?)'\", media_str)\n",
    "    photo_match = re.search(r\"Photo\\(previewUrl='(.*?)'\", media_str)\n",
    "    video_match = re.search(r\"Video\\(thumbnailUrl='(.*?)'\", media_str)\n",
    "\n",
    "    if gif_match:\n",
    "        return gif_match.group(1)\n",
    "    elif photo_match:\n",
    "        return photo_match.group(1)\n",
    "    elif video_match:\n",
    "        return video_match.group(1)\n",
    "    else:\n",
    "        return None\n",
    "    \n",
    "train.loc[:, 'preview_link'] = train['media'].apply(extract_preview_link)"
   ]
  },
  {
   "cell_type": "code",
   "execution_count": 6,
   "id": "e98c8dc3",
   "metadata": {
    "execution": {
     "iopub.execute_input": "2024-10-14T14:50:07.828127Z",
     "iopub.status.busy": "2024-10-14T14:50:07.827770Z",
     "iopub.status.idle": "2024-10-14T14:50:08.137491Z",
     "shell.execute_reply": "2024-10-14T14:50:08.136602Z"
    },
    "id": "At3PPn679iJv",
    "papermill": {
     "duration": 0.341212,
     "end_time": "2024-10-14T14:50:08.139548",
     "exception": false,
     "start_time": "2024-10-14T14:50:07.798336",
     "status": "completed"
    },
    "tags": []
   },
   "outputs": [
    {
     "data": {
      "text/plain": [
       "<matplotlib.image.AxesImage at 0x7c74509b2530>"
      ]
     },
     "execution_count": 6,
     "metadata": {},
     "output_type": "execute_result"
    },
    {
     "data": {
      "image/png": "[encoded data removed]",
      "text/plain": [
       "<Figure size 640x480 with 1 Axes>"
      ]
     },
     "metadata": {},
     "output_type": "display_data"
    }
   ],
   "source": [
    "def get_placeholder_image(size=(224, 224), color=(122, 122, 122)):\n",
    "    return np.array(Image.new(\"RGB\", size, color))\n",
    "default_image = get_placeholder_image()\n",
    "plt.imshow(default_image)"
   ]
  },
  {
   "cell_type": "code",
   "execution_count": 7,
   "id": "34ba6bc9",
   "metadata": {
    "execution": {
     "iopub.execute_input": "2024-10-14T14:50:08.201899Z",
     "iopub.status.busy": "2024-10-14T14:50:08.201021Z",
     "iopub.status.idle": "2024-10-14T14:50:08.214204Z",
     "shell.execute_reply": "2024-10-14T14:50:08.213298Z"
    },
    "id": "HmGXdETw9iJx",
    "papermill": {
     "duration": 0.044791,
     "end_time": "2024-10-14T14:50:08.216160",
     "exception": false,
     "start_time": "2024-10-14T14:50:08.171369",
     "status": "completed"
    },
    "tags": []
   },
   "outputs": [],
   "source": [
    "class Adobe_Dataset_train(Dataset):\n",
    "    def __init__(self, train, default_im, transform=None, bert_model=None, tokenizer=None):\n",
    "        self.train = train\n",
    "        self.default_image = default_im\n",
    "        self.transform = transform\n",
    "        self.bert_model = bert_model\n",
    "        self.tokenizer = tokenizer\n",
    "\n",
    "    def __len__(self):\n",
    "        return self.train.shape[0]\n",
    "\n",
    "    def get_image_from_url(self, url):\n",
    "        try:\n",
    "            response = requests.get(url, timeout=5)\n",
    "            if response.status_code == 200:\n",
    "                img = np.array(Image.open(BytesIO(response.content)).convert('RGB'))\n",
    "                return img\n",
    "            else:\n",
    "                return self.default_image\n",
    "        except requests.RequestException:\n",
    "            return self.default_image\n",
    "\n",
    "    def extract_ocr_text(self, img):\n",
    "        return pytesseract.image_to_string(img)\n",
    "\n",
    "    def get_bert_embedding(self, text):\n",
    "        inputs = self.tokenizer(text, return_tensors='pt', max_length=512, truncation=True, padding=True).to(device)\n",
    "        with torch.no_grad():\n",
    "            outputs = self.bert_model(**inputs)\n",
    "        return outputs.last_hidden_state.mean(dim=1).squeeze().detach().cpu()\n",
    "\n",
    "    def __getitem__(self, idx):\n",
    "        img = self.get_image_from_url(self.train['preview_link'][idx])\n",
    "        target = self.train['likes'][idx]\n",
    "\n",
    "        ocr_text = self.extract_ocr_text(img)\n",
    "        metadata_text = self.train['content'][idx]\n",
    "\n",
    "        ocr_embedding = self.get_bert_embedding(ocr_text)\n",
    "        metadata_embedding = self.get_bert_embedding(metadata_text)\n",
    "\n",
    "        if self.transform:\n",
    "            img = self.transform(image=img)['image']\n",
    "\n",
    "        return [img, ocr_embedding, metadata_embedding, target]\n",
    "\n",
    "class Adobe_Dataset_val(Adobe_Dataset_train):\n",
    "    def __init__(self, val, default_im, transform=None, bert_model=None, tokenizer=None):\n",
    "        super().__init__(val, default_im, transform, bert_model, tokenizer)"
   ]
  },
  {
   "cell_type": "code",
   "execution_count": 8,
   "id": "b8e7f73d",
   "metadata": {
    "execution": {
     "iopub.execute_input": "2024-10-14T14:50:08.275974Z",
     "iopub.status.busy": "2024-10-14T14:50:08.275119Z",
     "iopub.status.idle": "2024-10-14T14:50:08.280017Z",
     "shell.execute_reply": "2024-10-14T14:50:08.279133Z"
    },
    "id": "e3k_Fl2E9iJx",
    "papermill": {
     "duration": 0.037148,
     "end_time": "2024-10-14T14:50:08.282062",
     "exception": false,
     "start_time": "2024-10-14T14:50:08.244914",
     "status": "completed"
    },
    "tags": []
   },
   "outputs": [],
   "source": [
    "# class Adobe_Dataset_train(Dataset):\n",
    "#     def __init__(self,train,default_im,transform=None):\n",
    "#         self.train = train\n",
    "#         self.default_image = default_im\n",
    "#         self.transform = transform\n",
    "#     def __len__(self):\n",
    "#         return self.train.shape[0]\n",
    "#     def get_image_from_url(self, url):\n",
    "#         try:\n",
    "#             response = requests.get(url, timeout=5)\n",
    "#             if response.status_code == 200:\n",
    "#                 img = np.array(Image.open(BytesIO(response.content)).convert('RGB'))\n",
    "#                 return img\n",
    "#             else:\n",
    "#                 return self.default_image\n",
    "#         except requests.RequestException:\n",
    "#             return self.default_image\n",
    "#     def __getitem__(self,idx):\n",
    "#         img = self.get_image_from_url(self.train['preview_link'][idx])\n",
    "#         target = self.train['likes'][idx]\n",
    "\n",
    "#         if self.transform:\n",
    "#             img = self.transform(image=img)['image']\n",
    "#         return [img,target]"
   ]
  },
  {
   "cell_type": "code",
   "execution_count": 9,
   "id": "caa4912b",
   "metadata": {
    "execution": {
     "iopub.execute_input": "2024-10-14T14:50:08.353039Z",
     "iopub.status.busy": "2024-10-14T14:50:08.352243Z",
     "iopub.status.idle": "2024-10-14T14:50:08.357669Z",
     "shell.execute_reply": "2024-10-14T14:50:08.356623Z"
    },
    "id": "lPSluWp79iJy",
    "papermill": {
     "duration": 0.046766,
     "end_time": "2024-10-14T14:50:08.360779",
     "exception": false,
     "start_time": "2024-10-14T14:50:08.314013",
     "status": "completed"
    },
    "tags": []
   },
   "outputs": [],
   "source": [
    "# class Adobe_Dataset_val(Dataset):\n",
    "#     def __init__(self,val,default_im,transform=None):\n",
    "#         self.val = val\n",
    "#         self.default_image = default_im\n",
    "#         self.transform = transform\n",
    "\n",
    "#     def __len__(self):\n",
    "#         return self.val.shape[0]\n",
    "\n",
    "#     def get_image_from_url(self, url):\n",
    "#         try:\n",
    "#             response = requests.get(url, timeout=5)\n",
    "#             if response.status_code == 200:\n",
    "#                 img = np.array(Image.open(BytesIO(response.content)).convert('RGB'))\n",
    "#                 return img\n",
    "#             else:\n",
    "#                 return self.default_image\n",
    "#         except requests.RequestException:\n",
    "#             return self.default_image\n",
    "\n",
    "#     def __getitem__(self,idx):\n",
    "#         img = self.get_image_from_url(self.val['preview_link'][idx])\n",
    "#         target = self.val['likes'][idx]\n",
    "#         if self.transform:\n",
    "#             img = self.transform(image=img)['image']\n",
    "#         return [img,target]"
   ]
  },
  {
   "cell_type": "code",
   "execution_count": 10,
   "id": "a6ea8a86",
   "metadata": {
    "execution": {
     "iopub.execute_input": "2024-10-14T14:50:08.422866Z",
     "iopub.status.busy": "2024-10-14T14:50:08.422439Z",
     "iopub.status.idle": "2024-10-14T14:50:08.429751Z",
     "shell.execute_reply": "2024-10-14T14:50:08.428944Z"
    },
    "id": "bUd0khbM9iJz",
    "papermill": {
     "duration": 0.038676,
     "end_time": "2024-10-14T14:50:08.431713",
     "exception": false,
     "start_time": "2024-10-14T14:50:08.393037",
     "status": "completed"
    },
    "tags": []
   },
   "outputs": [],
   "source": [
    "# scaler = MinMaxScaler()\n",
    "# y=np.array(train['likes'])\n",
    "# train['likes']=scaler.fit_transform(y.reshape(-1,1))\n",
    "eps = 5\n",
    "train['likes']=np.log(train['likes']+eps)"
   ]
  },
  {
   "cell_type": "code",
   "execution_count": 11,
   "id": "b29b38b9",
   "metadata": {
    "execution": {
     "iopub.execute_input": "2024-10-14T14:50:08.489386Z",
     "iopub.status.busy": "2024-10-14T14:50:08.489073Z",
     "iopub.status.idle": "2024-10-14T14:50:12.384163Z",
     "shell.execute_reply": "2024-10-14T14:50:12.383336Z"
    },
    "id": "9X5C6jdq9iJz",
    "outputId": "b007836a-3fb6-4ec8-ee78-21e6de4176fa",
    "papermill": {
     "duration": 3.926608,
     "end_time": "2024-10-14T14:50:12.386620",
     "exception": false,
     "start_time": "2024-10-14T14:50:08.460012",
     "status": "completed"
    },
    "tags": []
   },
   "outputs": [
    {
     "data": {
      "application/vnd.jupyter.widget-view+json": {
       "model_id": "3e7ce7508e3449e8a080709b87157454",
       "version_major": 2,
       "version_minor": 0
      },
      "text/plain": [
       "tokenizer_config.json:   0%|          | 0.00/48.0 [00:00<?, ?B/s]"
      ]
     },
     "metadata": {},
     "output_type": "display_data"
    },
    {
     "data": {
      "application/vnd.jupyter.widget-view+json": {
       "model_id": "e6238242f3384625bd7618071ddf9d8d",
       "version_major": 2,
       "version_minor": 0
      },
      "text/plain": [
       "vocab.txt:   0%|          | 0.00/232k [00:00<?, ?B/s]"
      ]
     },
     "metadata": {},
     "output_type": "display_data"
    },
    {
     "data": {
      "application/vnd.jupyter.widget-view+json": {
       "model_id": "4babaa145b3149aabed7344f5d341551",
       "version_major": 2,
       "version_minor": 0
      },
      "text/plain": [
       "tokenizer.json:   0%|          | 0.00/466k [00:00<?, ?B/s]"
      ]
     },
     "metadata": {},
     "output_type": "display_data"
    },
    {
     "data": {
      "application/vnd.jupyter.widget-view+json": {
       "model_id": "8bcf07e11fac4a268662a33ae207f4ad",
       "version_major": 2,
       "version_minor": 0
      },
      "text/plain": [
       "config.json:   0%|          | 0.00/570 [00:00<?, ?B/s]"
      ]
     },
     "metadata": {},
     "output_type": "display_data"
    },
    {
     "data": {
      "application/vnd.jupyter.widget-view+json": {
       "model_id": "99c64f8395054c3cb7ceb3764a2ed16e",
       "version_major": 2,
       "version_minor": 0
      },
      "text/plain": [
       "model.safetensors:   0%|          | 0.00/440M [00:00<?, ?B/s]"
      ]
     },
     "metadata": {},
     "output_type": "display_data"
    }
   ],
   "source": [
    "tokenizer = BertTokenizer.from_pretrained('bert-base-uncased')\n",
    "bert_model = BertModel.from_pretrained('bert-base-uncased').to(device)"
   ]
  },
  {
   "cell_type": "code",
   "execution_count": 12,
   "id": "276fedcb",
   "metadata": {
    "execution": {
     "iopub.execute_input": "2024-10-14T14:50:12.447892Z",
     "iopub.status.busy": "2024-10-14T14:50:12.447038Z",
     "iopub.status.idle": "2024-10-14T14:50:12.456333Z",
     "shell.execute_reply": "2024-10-14T14:50:12.455384Z"
    },
    "id": "E17iVOmc9iJz",
    "papermill": {
     "duration": 0.041924,
     "end_time": "2024-10-14T14:50:12.458399",
     "exception": false,
     "start_time": "2024-10-14T14:50:12.416475",
     "status": "completed"
    },
    "tags": []
   },
   "outputs": [],
   "source": [
    "transform = A.Compose([\n",
    "    A.Resize(height=224, width=224),\n",
    "    A.Normalize(mean=[0.485, 0.456, 0.406], std=[0.229, 0.224, 0.225]),\n",
    "    ToTensorV2()\n",
    "])\n",
    "train_set = train[:2000]\n",
    "val_set = train[2000:3000].reset_index()\n",
    "# train_dataset = Adobe_Dataset_train(train_set,default_im,transform)\n",
    "# val_dataset = Adobe_Dataset_val(val_set,default_im,transform)\n",
    "# train_loader = DataLoader(train_dataset, batch_size = 64\n",
    "# val_loader = DataLoader(val_dataset, batch_size = 32)"
   ]
  },
  {
   "cell_type": "code",
   "execution_count": 13,
   "id": "414667e3",
   "metadata": {
    "execution": {
     "iopub.execute_input": "2024-10-14T14:50:12.518116Z",
     "iopub.status.busy": "2024-10-14T14:50:12.517761Z",
     "iopub.status.idle": "2024-10-14T14:50:12.523735Z",
     "shell.execute_reply": "2024-10-14T14:50:12.522842Z"
    },
    "id": "xejl2EtD9iJ0",
    "papermill": {
     "duration": 0.038035,
     "end_time": "2024-10-14T14:50:12.525673",
     "exception": false,
     "start_time": "2024-10-14T14:50:12.487638",
     "status": "completed"
    },
    "tags": []
   },
   "outputs": [],
   "source": [
    "train_dataset = Adobe_Dataset_train(train_set, default_image, transform=transform, bert_model=bert_model, tokenizer=tokenizer)\n",
    "val_dataset = Adobe_Dataset_val(val_set, default_image, transform=transform, bert_model=bert_model, tokenizer=tokenizer)\n",
    "train_loader = DataLoader(train_dataset, batch_size=16, shuffle=True,num_workers=0)\n",
    "val_loader = DataLoader(val_dataset, batch_size=16, shuffle=False,num_workers=0)"
   ]
  },
  {
   "cell_type": "code",
   "execution_count": 14,
   "id": "29734805",
   "metadata": {
    "execution": {
     "iopub.execute_input": "2024-10-14T14:50:12.586110Z",
     "iopub.status.busy": "2024-10-14T14:50:12.585427Z",
     "iopub.status.idle": "2024-10-14T14:50:20.089878Z",
     "shell.execute_reply": "2024-10-14T14:50:20.088925Z"
    },
    "id": "cGRAfdkA9iJ0",
    "outputId": "6b2bac70-2d2d-4ea7-e40f-619fd1da512d",
    "papermill": {
     "duration": 7.538067,
     "end_time": "2024-10-14T14:50:20.092745",
     "exception": false,
     "start_time": "2024-10-14T14:50:12.554678",
     "status": "completed"
    },
    "tags": []
   },
   "outputs": [
    {
     "data": {
      "text/plain": [
       "(<matplotlib.image.AxesImage at 0x7c74260fa1a0>,\n",
       " tensor([[-0.0092, -0.2219, -0.3448,  ..., -0.1524, -0.5097, -0.0513],\n",
       "         [-0.0092, -0.2219, -0.3448,  ..., -0.1524, -0.5097, -0.0513],\n",
       "         [-0.0092, -0.2219, -0.3448,  ..., -0.1524, -0.5097, -0.0513],\n",
       "         ...,\n",
       "         [ 0.0608, -0.0183,  0.5047,  ..., -0.3054, -0.1018,  0.6388],\n",
       "         [-0.0092, -0.2219, -0.3448,  ..., -0.1524, -0.5097, -0.0513],\n",
       "         [-0.0092, -0.2219, -0.3448,  ..., -0.1524, -0.5097, -0.0513]]))"
      ]
     },
     "execution_count": 14,
     "metadata": {},
     "output_type": "execute_result"
    },
    {
     "data": {
      "image/png": "[encoded data removed]",
      "text/plain": [
       "<Figure size 640x480 with 1 Axes>"
      ]
     },
     "metadata": {},
     "output_type": "display_data"
    }
   ],
   "source": [
    "l = next(iter(val_loader))\n",
    "plt.imshow(l[0][0].permute(1,2,0)),l[1]"
   ]
  },
  {
   "cell_type": "code",
   "execution_count": 15,
   "id": "bc253e5c",
   "metadata": {
    "execution": {
     "iopub.execute_input": "2024-10-14T14:50:20.156091Z",
     "iopub.status.busy": "2024-10-14T14:50:20.155695Z",
     "iopub.status.idle": "2024-10-14T14:50:20.160645Z",
     "shell.execute_reply": "2024-10-14T14:50:20.159757Z"
    },
    "id": "GLP7wMpg9iJ0",
    "papermill": {
     "duration": 0.038903,
     "end_time": "2024-10-14T14:50:20.162612",
     "exception": false,
     "start_time": "2024-10-14T14:50:20.123709",
     "status": "completed"
    },
    "tags": []
   },
   "outputs": [],
   "source": [
    "def acc_metric(y_true,y_pred):\n",
    "    return r2_score(y_true.detach().cpu().numpy(),y_pred.detach().cpu().numpy())"
   ]
  },
  {
   "cell_type": "code",
   "execution_count": 16,
   "id": "5f502b02",
   "metadata": {
    "execution": {
     "iopub.execute_input": "2024-10-14T14:50:20.225226Z",
     "iopub.status.busy": "2024-10-14T14:50:20.224414Z",
     "iopub.status.idle": "2024-10-14T14:50:20.228717Z",
     "shell.execute_reply": "2024-10-14T14:50:20.227822Z"
    },
    "id": "RF9U3jK_9iJ0",
    "papermill": {
     "duration": 0.03774,
     "end_time": "2024-10-14T14:50:20.230576",
     "exception": false,
     "start_time": "2024-10-14T14:50:20.192836",
     "status": "completed"
    },
    "tags": []
   },
   "outputs": [],
   "source": [
    "# class Img_Model(nn.Module):\n",
    "#     def __init__(self,out_features=1):\n",
    "#         super().__init__()\n",
    "#         self.model = timm.create_model('efficientnet_b0',pretrained=True)\n",
    "#         in_features = self.model.classifier.in_features\n",
    "#         self.model.classifier = nn.Sequential(nn.Linear(in_features,512),\n",
    "#                                               nn.Linear(512,1))\n",
    "#     def forward(self,x):\n",
    "#         return self.model(x)\n",
    "# model = Img_Model().to(device)"
   ]
  },
  {
   "cell_type": "code",
   "execution_count": 17,
   "id": "5574fcaf",
   "metadata": {
    "execution": {
     "iopub.execute_input": "2024-10-14T14:50:20.293224Z",
     "iopub.status.busy": "2024-10-14T14:50:20.292876Z",
     "iopub.status.idle": "2024-10-14T14:50:20.666867Z",
     "shell.execute_reply": "2024-10-14T14:50:20.665968Z"
    },
    "id": "iacjOfAP9iJ1",
    "outputId": "4f529989-ed75-4bdf-cb66-e1cbc5d071e0",
    "papermill": {
     "duration": 0.407987,
     "end_time": "2024-10-14T14:50:20.669209",
     "exception": false,
     "start_time": "2024-10-14T14:50:20.261222",
     "status": "completed"
    },
    "tags": []
   },
   "outputs": [
    {
     "data": {
      "application/vnd.jupyter.widget-view+json": {
       "model_id": "4cf21acc6c894aee9971d02fba95ef40",
       "version_major": 2,
       "version_minor": 0
      },
      "text/plain": [
       "model.safetensors:   0%|          | 0.00/21.4M [00:00<?, ?B/s]"
      ]
     },
     "metadata": {},
     "output_type": "display_data"
    }
   ],
   "source": [
    "class CombinedModel(nn.Module):\n",
    "    def __init__(self, out_features=1):\n",
    "        super().__init__()\n",
    "        # Image model\n",
    "        self.cnn_model = timm.create_model('efficientnet_b0', pretrained=True)\n",
    "        in_features = self.cnn_model.classifier.in_features\n",
    "        self.cnn_model.classifier = nn.Identity()\n",
    "\n",
    "        self.fc1 = nn.Linear(in_features + 768*2, 512)\n",
    "        self.dropout = nn.Dropout(0.3)\n",
    "        self.fc2 = nn.Linear(512, out_features)\n",
    "\n",
    "    def forward(self, img, ocr_embed, metadata_embed):\n",
    "        img_features = self.cnn_model(img)\n",
    "        combined_features = torch.cat((img_features, ocr_embed, metadata_embed), dim=1)\n",
    "        x = self.dropout(self.fc1(combined_features))\n",
    "        x = self.fc2(x)\n",
    "        return x\n",
    "\n",
    "model = CombinedModel().to(device)\n",
    "loss_fn = nn.MSELoss()\n",
    "optimizer = optim.AdamW(model.parameters())\n",
    "scheduler = optim.lr_scheduler.StepLR(optimizer,step_size=2,gamma=0.1)"
   ]
  },
  {
   "cell_type": "code",
   "execution_count": 18,
   "id": "b6a0ac98",
   "metadata": {
    "execution": {
     "iopub.execute_input": "2024-10-14T14:50:20.733237Z",
     "iopub.status.busy": "2024-10-14T14:50:20.732593Z",
     "iopub.status.idle": "2024-10-14T14:50:20.738243Z",
     "shell.execute_reply": "2024-10-14T14:50:20.737306Z"
    },
    "id": "U0XNV9Kv9iJ1",
    "papermill": {
     "duration": 0.039996,
     "end_time": "2024-10-14T14:50:20.740215",
     "exception": false,
     "start_time": "2024-10-14T14:50:20.700219",
     "status": "completed"
    },
    "tags": []
   },
   "outputs": [],
   "source": [
    "# def train_one_epoch(model, optimizer, scheduler, device, dataloader, epoch):\n",
    "#     model.train()\n",
    "#     dataset_size = 0\n",
    "#     running_loss = 0.0\n",
    "#     running_mse  = 0.0\n",
    "#     bar = tqdm(enumerate(dataloader), total=len(dataloader))\n",
    "#     y_true = []\n",
    "#     y_pred = []\n",
    "\n",
    "#     for step, data in bar:\n",
    "#         images = data[0].to(device, dtype=torch.float)\n",
    "#         targets = data[1].to(device, dtype=torch.float)\n",
    "#         batch_size = images.size(0)\n",
    "\n",
    "#         optimizer.zero_grad()\n",
    "\n",
    "#         outputs = model(images).squeeze()\n",
    "#         loss = loss_fn(outputs, targets)\n",
    "\n",
    "#         loss.backward()\n",
    "#         optimizer.step()\n",
    "\n",
    "#         running_loss += (loss.item() * batch_size)\n",
    "#         running_mse += ((outputs - targets) ** 2).sum().item()\n",
    "\n",
    "#         dataset_size += batch_size\n",
    "\n",
    "#         epoch_loss = running_loss / dataset_size\n",
    "#         epoch_mse = running_mse / dataset_size\n",
    "\n",
    "#         y_pred.append(outputs.detach())\n",
    "#         y_true.append(targets.detach())\n",
    "\n",
    "#         bar.set_postfix(Epoch=epoch, Loss=epoch_loss, MSE=epoch_mse)\n",
    "\n",
    "#     y_pred = torch.cat(y_pred, dim=0)\n",
    "#     y_true = torch.cat(y_true, dim=0)\n",
    "\n",
    "#     epoch_r2 = acc_metric(y_true, y_pred)\n",
    "\n",
    "#     print(f'Epoch = {epoch}, Train_Loss = {epoch_loss}, Train_R² = {epoch_r2}, LR = {optimizer.param_groups[0][\"lr\"]}')\n",
    "\n",
    "#     gc.collect()\n",
    "#     torch.cuda.empty_cache()\n",
    "\n",
    "#     return epoch_loss, epoch_r2"
   ]
  },
  {
   "cell_type": "code",
   "execution_count": 19,
   "id": "cdaca222",
   "metadata": {
    "execution": {
     "iopub.execute_input": "2024-10-14T14:50:20.803587Z",
     "iopub.status.busy": "2024-10-14T14:50:20.803193Z",
     "iopub.status.idle": "2024-10-14T14:50:20.808345Z",
     "shell.execute_reply": "2024-10-14T14:50:20.807397Z"
    },
    "id": "qEQdivFy9iJ1",
    "papermill": {
     "duration": 0.039027,
     "end_time": "2024-10-14T14:50:20.810330",
     "exception": false,
     "start_time": "2024-10-14T14:50:20.771303",
     "status": "completed"
    },
    "tags": []
   },
   "outputs": [],
   "source": [
    "# def valid_one_epoch(model, dataloader, device, epoch):\n",
    "#     model.eval()\n",
    "#     dataset_size = 0\n",
    "#     running_loss = 0.0\n",
    "#     running_mse = 0.0\n",
    "#     with torch.inference_mode():\n",
    "#         y_pred = []\n",
    "#         y_true = []\n",
    "#         bar = tqdm(enumerate(dataloader), total=len(dataloader))\n",
    "#         for step, data in bar:\n",
    "#             images = data[0].to(device, dtype=torch.float)\n",
    "#             targets = data[1].to(device, dtype=torch.float)\n",
    "#             batch_size = images.size(0)\n",
    "#             outputs = model(images).squeeze()\n",
    "#             y_pred.append(outputs)\n",
    "#             y_true.append(targets)\n",
    "#             loss = loss_fn(outputs, targets)\n",
    "#             running_loss += (loss.item() * batch_size)\n",
    "#             dataset_size += batch_size\n",
    "#             epoch_loss = running_loss / dataset_size\n",
    "#             epoch_mse = running_mse / dataset_size\n",
    "#             del images\n",
    "#             del targets\n",
    "#             del batch_size\n",
    "#         y_pred = torch.cat(y_pred, dim = 0)\n",
    "#         y_true = torch.cat(y_true, dim = 0)\n",
    "#         epoch_r2 = acc_metric(y_true,y_pred)\n",
    "#         print(f'Epoch = {epoch}, Valid_Loss = {epoch_loss}, Valid_r2 = {epoch_r2}, LR = {optimizer.param_groups[0][\"lr\"]}')\n",
    "#     torch.cuda.empty_cache()\n",
    "#     gc.collect()\n",
    "#     return epoch_loss, epoch_r2"
   ]
  },
  {
   "cell_type": "code",
   "execution_count": 20,
   "id": "b0dda009",
   "metadata": {
    "execution": {
     "iopub.execute_input": "2024-10-14T14:50:20.873726Z",
     "iopub.status.busy": "2024-10-14T14:50:20.873196Z",
     "iopub.status.idle": "2024-10-14T14:50:20.884060Z",
     "shell.execute_reply": "2024-10-14T14:50:20.883141Z"
    },
    "id": "CUCqH04K9iJ1",
    "papermill": {
     "duration": 0.044841,
     "end_time": "2024-10-14T14:50:20.885982",
     "exception": false,
     "start_time": "2024-10-14T14:50:20.841141",
     "status": "completed"
    },
    "tags": []
   },
   "outputs": [],
   "source": [
    "def train_one_epoch(model, optimizer, scheduler, device, dataloader, epoch):\n",
    "    model.train()\n",
    "    dataset_size = 0\n",
    "    running_loss = 0.0\n",
    "    running_mse  = 0.0\n",
    "    bar = tqdm(enumerate(dataloader), total=len(dataloader))\n",
    "    y_true = []\n",
    "    y_pred = []\n",
    "\n",
    "    for step, data in bar:\n",
    "        images = data[0].to(device, dtype=torch.float)\n",
    "        bert_embed_content = data[1].to(device, dtype=torch.float)\n",
    "        bert_embed_ocr = data[2].to(device, dtype=torch.float)\n",
    "        targets = data[3].to(device, dtype=torch.float)\n",
    "        batch_size = images.size(0)\n",
    "\n",
    "        optimizer.zero_grad()\n",
    "\n",
    "        outputs = model(images, bert_embed_content, bert_embed_ocr).squeeze()\n",
    "        loss = loss_fn(outputs, targets)\n",
    "\n",
    "        loss.backward()\n",
    "        optimizer.step()\n",
    "\n",
    "        running_loss += (loss.item() * batch_size)\n",
    "        running_mse += ((outputs - targets) ** 2).sum().item()\n",
    "\n",
    "\n",
    "        dataset_size += batch_size\n",
    "        epoch_loss = running_loss / dataset_size\n",
    "        epoch_mse = running_mse / dataset_size\n",
    "\n",
    "        y_pred.append(outputs.detach())\n",
    "        y_true.append(targets.detach())\n",
    "\n",
    "        bar.set_postfix(Epoch=epoch, Loss=epoch_loss)\n",
    "\n",
    "    y_pred = torch.cat(y_pred, dim=0)\n",
    "    y_true = torch.cat(y_true, dim=0)\n",
    "\n",
    "    epoch_r2 = acc_metric(y_true, y_pred)\n",
    "\n",
    "    print(f'Epoch = {epoch}, Train_Loss = {epoch_loss}, Train_R2 = {epoch_r2}, LR = {optimizer.param_groups[0][\"lr\"]}')\n",
    "\n",
    "    gc.collect()\n",
    "    torch.cuda.empty_cache()\n",
    "\n",
    "    return epoch_loss, epoch_r2"
   ]
  },
  {
   "cell_type": "code",
   "execution_count": 21,
   "id": "59ec4e56",
   "metadata": {
    "execution": {
     "iopub.execute_input": "2024-10-14T14:50:20.949292Z",
     "iopub.status.busy": "2024-10-14T14:50:20.948413Z",
     "iopub.status.idle": "2024-10-14T14:50:20.958783Z",
     "shell.execute_reply": "2024-10-14T14:50:20.957841Z"
    },
    "id": "Uniusc_Z9iJ2",
    "papermill": {
     "duration": 0.044325,
     "end_time": "2024-10-14T14:50:20.960741",
     "exception": false,
     "start_time": "2024-10-14T14:50:20.916416",
     "status": "completed"
    },
    "tags": []
   },
   "outputs": [],
   "source": [
    "def valid_one_epoch(model, dataloader, device, epoch):\n",
    "    model.eval()\n",
    "    dataset_size = 0\n",
    "    running_loss = 0.0\n",
    "    running_mse = 0.0\n",
    "    with torch.inference_mode():\n",
    "        y_pred = []\n",
    "        y_true = []\n",
    "        bar = tqdm(enumerate(dataloader), total=len(dataloader))\n",
    "        for step, data in bar:\n",
    "            images = data[0].to(device, dtype=torch.float)\n",
    "            bert_embed_content = data[1].to(device, dtype=torch.float)\n",
    "            bert_embed_ocr = data[2].to(device, dtype=torch.float)\n",
    "            targets = data[3].to(device, dtype=torch.float)\n",
    "            batch_size = images.size(0)\n",
    "\n",
    "            outputs = model(images, bert_embed_content, bert_embed_ocr).squeeze()\n",
    "            y_pred.append(outputs)\n",
    "            y_true.append(targets)\n",
    "\n",
    "            loss = loss_fn(outputs, targets)\n",
    "            running_loss += (loss.item() * batch_size)\n",
    "            running_mse += ((outputs - targets) ** 2).sum().item()\n",
    "            dataset_size += batch_size\n",
    "            epoch_loss = running_loss / dataset_size\n",
    "            epoch_mse = running_mse / dataset_size\n",
    "\n",
    "        y_pred = torch.cat(y_pred, dim=0)\n",
    "        y_true = torch.cat(y_true, dim=0)\n",
    "\n",
    "        epoch_r2 = acc_metric(y_true, y_pred)\n",
    "\n",
    "        print(f'Epoch = {epoch}, Valid_Loss = {epoch_loss}, Valid_r2 = {epoch_r2}, LR = {optimizer.param_groups[0][\"lr\"]}')\n",
    "\n",
    "    torch.cuda.empty_cache()\n",
    "    gc.collect()\n",
    "\n",
    "    return epoch_loss, epoch_r2"
   ]
  },
  {
   "cell_type": "code",
   "execution_count": 22,
   "id": "0c239e98",
   "metadata": {
    "execution": {
     "iopub.execute_input": "2024-10-14T14:50:21.023981Z",
     "iopub.status.busy": "2024-10-14T14:50:21.023337Z",
     "iopub.status.idle": "2024-10-14T14:50:21.033953Z",
     "shell.execute_reply": "2024-10-14T14:50:21.033054Z"
    },
    "id": "s_9o2D3k9iJ2",
    "papermill": {
     "duration": 0.044701,
     "end_time": "2024-10-14T14:50:21.036024",
     "exception": false,
     "start_time": "2024-10-14T14:50:20.991323",
     "status": "completed"
    },
    "tags": []
   },
   "outputs": [],
   "source": [
    "def run_training(model, optimizer, scheduler, device, train_loader, val_loader, num_epochs):\n",
    "    if torch.cuda.is_available():\n",
    "        print(\"[INFO] Using GPU: {}\\n\".format(torch.cuda.get_device_name()))\n",
    "\n",
    "    start = time.time()\n",
    "    best_model_wts = copy.deepcopy(model.state_dict())\n",
    "    best_epoch_r2 = -np.inf\n",
    "    history = defaultdict(list)\n",
    "\n",
    "    for epoch in range(1, num_epochs + 1):\n",
    "        gc.collect()\n",
    "\n",
    "        train_epoch_loss, train_epoch_r2 = train_one_epoch(model, optimizer, scheduler, device,\n",
    "                                           dataloader=train_loader, epoch=epoch)\n",
    "\n",
    "        val_epoch_loss, val_epoch_r2 = valid_one_epoch(model, val_loader, device, epoch=epoch)\n",
    "        torch.cuda.empty_cache()\n",
    "\n",
    "        history['Train Loss'].append(train_epoch_loss)\n",
    "        history['Valid Loss'].append(val_epoch_loss)\n",
    "        history['Train r2'].append(train_epoch_r2)\n",
    "        history['Valid r2'].append(val_epoch_r2)\n",
    "        \n",
    "        if best_epoch_r2 <= val_epoch_r2:\n",
    "            print(f\"Validation R² Improved ({best_epoch_r2:.4f} ---> {val_epoch_r2:.4f})\")\n",
    "            best_epoch_r2 = val_epoch_r2\n",
    "            best_model_wts = copy.deepcopy(model.state_dict())\n",
    "\n",
    "            PATH = \"R2_{:.4f}_Loss_{:.4f}_Epoch_{:.0f}.pth\".format(val_epoch_r2, val_epoch_loss, epoch)\n",
    "            torch.save(model.state_dict(), PATH)\n",
    "            print(f\"Model saved at: {PATH}\")\n",
    "\n",
    "        print()\n",
    "\n",
    "    end = time.time()\n",
    "    time_elapsed = end - start\n",
    "    print('Training complete in {:.0f}h {:.0f}m {:.0f}s'.format(\n",
    "        time_elapsed // 3600, (time_elapsed % 3600) // 60, (time_elapsed % 3600) % 60))\n",
    "    print(\"Best R²: {:.4f}\".format(best_epoch_r2))\n",
    "\n",
    "    model.load_state_dict(best_model_wts)\n",
    "\n",
    "    return model, history"
   ]
  },
  {
   "cell_type": "code",
   "execution_count": 23,
   "id": "832b139d",
   "metadata": {
    "execution": {
     "iopub.execute_input": "2024-10-14T14:50:21.099264Z",
     "iopub.status.busy": "2024-10-14T14:50:21.098418Z",
     "iopub.status.idle": "2024-10-14T16:47:38.848349Z",
     "shell.execute_reply": "2024-10-14T16:47:38.847253Z"
    },
    "id": "0159J-_B9iJ2",
    "outputId": "b7bf2f64-c439-42fd-f7c6-af11740008a4",
    "papermill": {
     "duration": 7037.783978,
     "end_time": "2024-10-14T16:47:38.850421",
     "exception": false,
     "start_time": "2024-10-14T14:50:21.066443",
     "status": "completed"
    },
    "tags": []
   },
   "outputs": [
    {
     "name": "stdout",
     "output_type": "stream",
     "text": [
      "[INFO] Using GPU: Tesla P100-PCIE-16GB\n",
      "\n"
     ]
    },
    {
     "name": "stderr",
     "output_type": "stream",
     "text": [
      "  4%|▍         | 5/125 [00:33<13:26,  6.72s/it, Epoch=1, Loss=8.81]/opt/conda/lib/python3.10/site-packages/PIL/Image.py:1056: UserWarning: Palette images with Transparency expressed in bytes should be converted to RGBA images\n",
      "  warnings.warn(\n",
      "100%|██████████| 125/125 [13:08<00:00,  6.31s/it, Epoch=1, Loss=4.31]\n"
     ]
    },
    {
     "name": "stdout",
     "output_type": "stream",
     "text": [
      "Epoch = 1, Train_Loss = 4.308697041511536, Train_R2 = 0.049920481129319794, LR = 0.001\n"
     ]
    },
    {
     "name": "stderr",
     "output_type": "stream",
     "text": [
      "100%|██████████| 63/63 [06:24<00:00,  6.10s/it]\n"
     ]
    },
    {
     "name": "stdout",
     "output_type": "stream",
     "text": [
      "Epoch = 1, Valid_Loss = 3.3849579277038573, Valid_r2 = 0.26036832629728635, LR = 0.001\n",
      "Validation R² Improved (-inf ---> 0.2604)\n",
      "Model saved at: R2_0.2604_Loss_3.3850_Epoch_1.pth\n",
      "\n"
     ]
    },
    {
     "name": "stderr",
     "output_type": "stream",
     "text": [
      " 31%|███       | 39/125 [04:11<09:02,  6.30s/it, Epoch=2, Loss=3.17]/opt/conda/lib/python3.10/site-packages/PIL/Image.py:1056: UserWarning: Palette images with Transparency expressed in bytes should be converted to RGBA images\n",
      "  warnings.warn(\n",
      "100%|██████████| 125/125 [13:06<00:00,  6.29s/it, Epoch=2, Loss=3.19]\n"
     ]
    },
    {
     "name": "stdout",
     "output_type": "stream",
     "text": [
      "Epoch = 2, Train_Loss = 3.1885150775909423, Train_R2 = 0.2969236820616332, LR = 0.001\n"
     ]
    },
    {
     "name": "stderr",
     "output_type": "stream",
     "text": [
      "100%|██████████| 63/63 [06:26<00:00,  6.13s/it]\n"
     ]
    },
    {
     "name": "stdout",
     "output_type": "stream",
     "text": [
      "Epoch = 2, Valid_Loss = 3.680029706954956, Valid_r2 = 0.19589353768421924, LR = 0.001\n",
      "\n"
     ]
    },
    {
     "name": "stderr",
     "output_type": "stream",
     "text": [
      " 79%|███████▉  | 99/125 [10:19<02:40,  6.17s/it, Epoch=3, Loss=2.72]/opt/conda/lib/python3.10/site-packages/PIL/Image.py:1056: UserWarning: Palette images with Transparency expressed in bytes should be converted to RGBA images\n",
      "  warnings.warn(\n",
      "100%|██████████| 125/125 [13:04<00:00,  6.27s/it, Epoch=3, Loss=2.7]\n"
     ]
    },
    {
     "name": "stdout",
     "output_type": "stream",
     "text": [
      "Epoch = 3, Train_Loss = 2.702144036769867, Train_R2 = 0.4041698260341866, LR = 0.001\n"
     ]
    },
    {
     "name": "stderr",
     "output_type": "stream",
     "text": [
      "100%|██████████| 63/63 [06:25<00:00,  6.12s/it]\n"
     ]
    },
    {
     "name": "stdout",
     "output_type": "stream",
     "text": [
      "Epoch = 3, Valid_Loss = 3.3925568294525146, Valid_r2 = 0.2587079180582026, LR = 0.001\n",
      "\n"
     ]
    },
    {
     "name": "stderr",
     "output_type": "stream",
     "text": [
      " 21%|██        | 26/125 [02:52<10:36,  6.43s/it, Epoch=4, Loss=2.82]/opt/conda/lib/python3.10/site-packages/PIL/Image.py:1056: UserWarning: Palette images with Transparency expressed in bytes should be converted to RGBA images\n",
      "  warnings.warn(\n",
      "100%|██████████| 125/125 [13:13<00:00,  6.35s/it, Epoch=4, Loss=2.58]\n"
     ]
    },
    {
     "name": "stdout",
     "output_type": "stream",
     "text": [
      "Epoch = 4, Train_Loss = 2.581417270183563, Train_R2 = 0.4307904055910168, LR = 0.001\n"
     ]
    },
    {
     "name": "stderr",
     "output_type": "stream",
     "text": [
      "100%|██████████| 63/63 [06:23<00:00,  6.09s/it]\n"
     ]
    },
    {
     "name": "stdout",
     "output_type": "stream",
     "text": [
      "Epoch = 4, Valid_Loss = 3.2971241550445556, Valid_r2 = 0.27956047851203836, LR = 0.001\n",
      "Validation R² Improved (0.2604 ---> 0.2796)\n",
      "Model saved at: R2_0.2796_Loss_3.2971_Epoch_4.pth\n",
      "\n"
     ]
    },
    {
     "name": "stderr",
     "output_type": "stream",
     "text": [
      " 19%|█▉        | 24/125 [02:26<10:01,  5.96s/it, Epoch=5, Loss=2.05]/opt/conda/lib/python3.10/site-packages/PIL/Image.py:1056: UserWarning: Palette images with Transparency expressed in bytes should be converted to RGBA images\n",
      "  warnings.warn(\n",
      "100%|██████████| 125/125 [13:05<00:00,  6.29s/it, Epoch=5, Loss=2.26]\n"
     ]
    },
    {
     "name": "stdout",
     "output_type": "stream",
     "text": [
      "Epoch = 5, Train_Loss = 2.260826319217682, Train_R2 = 0.5014815953224414, LR = 0.001\n"
     ]
    },
    {
     "name": "stderr",
     "output_type": "stream",
     "text": [
      "100%|██████████| 63/63 [06:22<00:00,  6.08s/it]\n"
     ]
    },
    {
     "name": "stdout",
     "output_type": "stream",
     "text": [
      "Epoch = 5, Valid_Loss = 3.4121878509521486, Valid_r2 = 0.25441843766599503, LR = 0.001\n",
      "\n"
     ]
    },
    {
     "name": "stderr",
     "output_type": "stream",
     "text": [
      " 85%|████████▍ | 106/125 [11:13<01:55,  6.06s/it, Epoch=6, Loss=1.92]/opt/conda/lib/python3.10/site-packages/PIL/Image.py:1056: UserWarning: Palette images with Transparency expressed in bytes should be converted to RGBA images\n",
      "  warnings.warn(\n",
      "100%|██████████| 125/125 [13:07<00:00,  6.30s/it, Epoch=6, Loss=1.91]\n"
     ]
    },
    {
     "name": "stdout",
     "output_type": "stream",
     "text": [
      "Epoch = 6, Train_Loss = 1.911954179763794, Train_R2 = 0.5784088588727498, LR = 0.001\n"
     ]
    },
    {
     "name": "stderr",
     "output_type": "stream",
     "text": [
      "100%|██████████| 63/63 [06:24<00:00,  6.10s/it]\n"
     ]
    },
    {
     "name": "stdout",
     "output_type": "stream",
     "text": [
      "Epoch = 6, Valid_Loss = 3.5128066883087157, Valid_r2 = 0.23243267224457187, LR = 0.001\n",
      "\n",
      "Training complete in 1h 57m 18s\n",
      "Best R²: 0.2796\n"
     ]
    }
   ],
   "source": [
    "model, history = run_training(model, optimizer, scheduler,\n",
    "                              device,train_loader,val_loader,num_epochs=6)"
   ]
  },
  {
   "cell_type": "code",
   "execution_count": 24,
   "id": "75f52824",
   "metadata": {
    "execution": {
     "iopub.execute_input": "2024-10-14T16:47:39.214057Z",
     "iopub.status.busy": "2024-10-14T16:47:39.213349Z",
     "iopub.status.idle": "2024-10-14T16:47:39.308609Z",
     "shell.execute_reply": "2024-10-14T16:47:39.307752Z"
    },
    "id": "G4_7T0Ht9iJ3",
    "papermill": {
     "duration": 0.281052,
     "end_time": "2024-10-14T16:47:39.310979",
     "exception": false,
     "start_time": "2024-10-14T16:47:39.029927",
     "status": "completed"
    },
    "tags": []
   },
   "outputs": [],
   "source": [
    "PATH = 'final_model.pkl'\n",
    "with open(PATH, 'wb') as f:\n",
    "    pickle.dump(model, f)\n",
    "PATH_2 = 'history.pkl'\n",
    "with open(PATH_2, 'wb') as f:\n",
    "    pickle.dump(history, f)"
   ]
  },
  {
   "cell_type": "code",
   "execution_count": null,
   "id": "c74d861c",
   "metadata": {
    "papermill": {
     "duration": 0.176091,
     "end_time": "2024-10-14T16:47:39.664657",
     "exception": false,
     "start_time": "2024-10-14T16:47:39.488566",
     "status": "completed"
    },
    "tags": []
   },
   "outputs": [],
   "source": []
  }
 ],
 "metadata": {
  "accelerator": "GPU",
  "colab": {
   "gpuType": "T4",
   "provenance": []
  },
  "kaggle": {
   "accelerator": "gpu",
   "dataSources": [
    {
     "datasetId": 5817662,
     "sourceId": 9548532,
     "sourceType": "datasetVersion"
    },
    {
     "datasetId": 5817777,
     "sourceId": 9548682,
     "sourceType": "datasetVersion"
    }
   ],
   "dockerImageVersionId": 30787,
   "isGpuEnabled": true,
   "isInternetEnabled": true,
   "language": "python",
   "sourceType": "notebook"
  },
  "kernelspec": {
   "display_name": "Python 3",
   "language": "python",
   "name": "python3"
  },
  "language_info": {
   "codemirror_mode": {
    "name": "ipython",
    "version": 3
   },
   "file_extension": ".py",
   "mimetype": "text/x-python",
   "name": "python",
   "nbconvert_exporter": "python",
   "pygments_lexer": "ipython3",
   "version": "3.10.14"
  },
  "papermill": {
   "default_parameters": {},
   "duration": 7101.715816,
   "end_time": "2024-10-14T16:47:42.636792",
   "environment_variables": {},
   "exception": null,
   "input_path": "__notebook__.ipynb",
   "output_path": "__notebook__.ipynb",
   "parameters": {},
   "start_time": "2024-10-14T14:49:20.920976",
   "version": "2.6.0"
  },
  "widgets": {
   "application/vnd.jupyter.widget-state+json": {
    "state": {
     "038e76f86f194695a548ce9c38dfab5f": {
      "model_module": "@jupyter-widgets/controls",
      "model_module_version": "1.5.0",
      "model_name": "ProgressStyleModel",
      "state": {
       "_model_module": "@jupyter-widgets/controls",
       "_model_module_version": "1.5.0",
       "_model_name": "ProgressStyleModel",
       "_view_count": null,
       "_view_module": "@jupyter-widgets/base",
       "_view_module_version": "1.2.0",
       "_view_name": "StyleView",
       "bar_color": null,
       "description_width": ""
      }
     },
     "0418121142484f348431deb71e330808": {
      "model_module": "@jupyter-widgets/base",
      "model_module_version": "1.2.0",
      "model_name": "LayoutModel",
      "state": {
       "_model_module": "@jupyter-widgets/base",
       "_model_module_version": "1.2.0",
       "_model_name": "LayoutModel",
       "_view_count": null,
       "_view_module": "@jupyter-widgets/base",
       "_view_module_version": "1.2.0",
       "_view_name": "LayoutView",
       "align_content": null,
       "align_items": null,
       "align_self": null,
       "border": null,
       "bottom": null,
       "display": null,
       "flex": null,
       "flex_flow": null,
       "grid_area": null,
       "grid_auto_columns": null,
       "grid_auto_flow": null,
       "grid_auto_rows": null,
       "grid_column": null,
       "grid_gap": null,
       "grid_row": null,
       "grid_template_areas": null,
       "grid_template_columns": null,
       "grid_template_rows": null,
       "height": null,
       "justify_content": null,
       "justify_items": null,
       "left": null,
       "margin": null,
       "max_height": null,
       "max_width": null,
       "min_height": null,
       "min_width": null,
       "object_fit": null,
       "object_position": null,
       "order": null,
       "overflow": null,
       "overflow_x": null,
       "overflow_y": null,
       "padding": null,
       "right": null,
       "top": null,
       "visibility": null,
       "width": null
      }
     },
     "0b90bbb7e632444a9fe9d6fc5c6c0b6a": {
      "model_module": "@jupyter-widgets/base",
      "model_module_version": "1.2.0",
      "model_name": "LayoutModel",
      "state": {
       "_model_module": "@jupyter-widgets/base",
       "_model_module_version": "1.2.0",
       "_model_name": "LayoutModel",
       "_view_count": null,
       "_view_module": "@jupyter-widgets/base",
       "_view_module_version": "1.2.0",
       "_view_name": "LayoutView",
       "align_content": null,
       "align_items": null,
       "align_self": null,
       "border": null,
       "bottom": null,
       "display": null,
       "flex": null,
       "flex_flow": null,
       "grid_area": null,
       "grid_auto_columns": null,
       "grid_auto_flow": null,
       "grid_auto_rows": null,
       "grid_column": null,
       "grid_gap": null,
       "grid_row": null,
       "grid_template_areas": null,
       "grid_template_columns": null,
       "grid_template_rows": null,
       "height": null,
       "justify_content": null,
       "justify_items": null,
       "left": null,
       "margin": null,
       "max_height": null,
       "max_width": null,
       "min_height": null,
       "min_width": null,
       "object_fit": null,
       "object_position": null,
       "order": null,
       "overflow": null,
       "overflow_x": null,
       "overflow_y": null,
       "padding": null,
       "right": null,
       "top": null,
       "visibility": null,
       "width": null
      }
     },
     "195eb82e33084182b025938b9395adc1": {
      "model_module": "@jupyter-widgets/controls",
      "model_module_version": "1.5.0",
      "model_name": "ProgressStyleModel",
      "state": {
       "_model_module": "@jupyter-widgets/controls",
       "_model_module_version": "1.5.0",
       "_model_name": "ProgressStyleModel",
       "_view_count": null,
       "_view_module": "@jupyter-widgets/base",
       "_view_module_version": "1.2.0",
       "_view_name": "StyleView",
       "bar_color": null,
       "description_width": ""
      }
     },
     "1a6f4f245bd94b7ca39bfcad489b10e3": {
      "model_module": "@jupyter-widgets/controls",
      "model_module_version": "1.5.0",
      "model_name": "HTMLModel",
      "state": {
       "_dom_classes": [],
       "_model_module": "@jupyter-widgets/controls",
       "_model_module_version": "1.5.0",
       "_model_name": "HTMLModel",
       "_view_count": null,
       "_view_module": "@jupyter-widgets/controls",
       "_view_module_version": "1.5.0",
       "_view_name": "HTMLView",
       "description": "",
       "description_tooltip": null,
       "layout": "IPY_MODEL_4e6281370bb3492b96aa0f38e44a80e3",
       "placeholder": "​",
       "style": "IPY_MODEL_4fde15256148464593589f303b0611e5",
       "value": " 48.0/48.0 [00:00&lt;00:00, 3.87kB/s]"
      }
     },
     "2487820f9b3f4be59dc24aa0e6be433e": {
      "model_module": "@jupyter-widgets/controls",
      "model_module_version": "1.5.0",
      "model_name": "FloatProgressModel",
      "state": {
       "_dom_classes": [],
       "_model_module": "@jupyter-widgets/controls",
       "_model_module_version": "1.5.0",
       "_model_name": "FloatProgressModel",
       "_view_count": null,
       "_view_module": "@jupyter-widgets/controls",
       "_view_module_version": "1.5.0",
       "_view_name": "ProgressView",
       "bar_style": "success",
       "description": "",
       "description_tooltip": null,
       "layout": "IPY_MODEL_81795169afeb4d50995ab9284fba4b7d",
       "max": 21355344.0,
       "min": 0.0,
       "orientation": "horizontal",
       "style": "IPY_MODEL_9e0983451bb54939b8e2b25b1403c0c8",
       "value": 21355344.0
      }
     },
     "309855b0a7fd482ea57806ad9210fa47": {
      "model_module": "@jupyter-widgets/base",
      "model_module_version": "1.2.0",
      "model_name": "LayoutModel",
      "state": {
       "_model_module": "@jupyter-widgets/base",
       "_model_module_version": "1.2.0",
       "_model_name": "LayoutModel",
       "_view_count": null,
       "_view_module": "@jupyter-widgets/base",
       "_view_module_version": "1.2.0",
       "_view_name": "LayoutView",
       "align_content": null,
       "align_items": null,
       "align_self": null,
       "border": null,
       "bottom": null,
       "display": null,
       "flex": null,
       "flex_flow": null,
       "grid_area": null,
       "grid_auto_columns": null,
       "grid_auto_flow": null,
       "grid_auto_rows": null,
       "grid_column": null,
       "grid_gap": null,
       "grid_row": null,
       "grid_template_areas": null,
       "grid_template_columns": null,
       "grid_template_rows": null,
       "height": null,
       "justify_content": null,
       "justify_items": null,
       "left": null,
       "margin": null,
       "max_height": null,
       "max_width": null,
       "min_height": null,
       "min_width": null,
       "object_fit": null,
       "object_position": null,
       "order": null,
       "overflow": null,
       "overflow_x": null,
       "overflow_y": null,
       "padding": null,
       "right": null,
       "top": null,
       "visibility": null,
       "width": null
      }
     },
     "37b98f8990af4e709ab938e9f1d07d6d": {
      "model_module": "@jupyter-widgets/controls",
      "model_module_version": "1.5.0",
      "model_name": "DescriptionStyleModel",
      "state": {
       "_model_module": "@jupyter-widgets/controls",
       "_model_module_version": "1.5.0",
       "_model_name": "DescriptionStyleModel",
       "_view_count": null,
       "_view_module": "@jupyter-widgets/base",
       "_view_module_version": "1.2.0",
       "_view_name": "StyleView",
       "description_width": ""
      }
     },
     "397ceeaedc354366a41831baf94c20b9": {
      "model_module": "@jupyter-widgets/base",
      "model_module_version": "1.2.0",
      "model_name": "LayoutModel",
      "state": {
       "_model_module": "@jupyter-widgets/base",
       "_model_module_version": "1.2.0",
       "_model_name": "LayoutModel",
       "_view_count": null,
       "_view_module": "@jupyter-widgets/base",
       "_view_module_version": "1.2.0",
       "_view_name": "LayoutView",
       "align_content": null,
       "align_items": null,
       "align_self": null,
       "border": null,
       "bottom": null,
       "display": null,
       "flex": null,
       "flex_flow": null,
       "grid_area": null,
       "grid_auto_columns": null,
       "grid_auto_flow": null,
       "grid_auto_rows": null,
       "grid_column": null,
       "grid_gap": null,
       "grid_row": null,
       "grid_template_areas": null,
       "grid_template_columns": null,
       "grid_template_rows": null,
       "height": null,
       "justify_content": null,
       "justify_items": null,
       "left": null,
       "margin": null,
       "max_height": null,
       "max_width": null,
       "min_height": null,
       "min_width": null,
       "object_fit": null,
       "object_position": null,
       "order": null,
       "overflow": null,
       "overflow_x": null,
       "overflow_y": null,
       "padding": null,
       "right": null,
       "top": null,
       "visibility": null,
       "width": null
      }
     },
     "3e7ce7508e3449e8a080709b87157454": {
      "model_module": "@jupyter-widgets/controls",
      "model_module_version": "1.5.0",
      "model_name": "HBoxModel",
      "state": {
       "_dom_classes": [],
       "_model_module": "@jupyter-widgets/controls",
       "_model_module_version": "1.5.0",
       "_model_name": "HBoxModel",
       "_view_count": null,
       "_view_module": "@jupyter-widgets/controls",
       "_view_module_version": "1.5.0",
       "_view_name": "HBoxView",
       "box_style": "",
       "children": [
        "IPY_MODEL_63321fc947c744dea0ed0ff7671e3ff7",
        "IPY_MODEL_d61593dab64c47e8a8058ec615ed6df6",
        "IPY_MODEL_1a6f4f245bd94b7ca39bfcad489b10e3"
       ],
       "layout": "IPY_MODEL_508e898e17174d82b5f1a83a957951e5"
      }
     },
     "40e85bd642724f588d7c9ef901e11d40": {
      "model_module": "@jupyter-widgets/base",
      "model_module_version": "1.2.0",
      "model_name": "LayoutModel",
      "state": {
       "_model_module": "@jupyter-widgets/base",
       "_model_module_version": "1.2.0",
       "_model_name": "LayoutModel",
       "_view_count": null,
       "_view_module": "@jupyter-widgets/base",
       "_view_module_version": "1.2.0",
       "_view_name": "LayoutView",
       "align_content": null,
       "align_items": null,
       "align_self": null,
       "border": null,
       "bottom": null,
       "display": null,
       "flex": null,
       "flex_flow": null,
       "grid_area": null,
       "grid_auto_columns": null,
       "grid_auto_flow": null,
       "grid_auto_rows": null,
       "grid_column": null,
       "grid_gap": null,
       "grid_row": null,
       "grid_template_areas": null,
       "grid_template_columns": null,
       "grid_template_rows": null,
       "height": null,
       "justify_content": null,
       "justify_items": null,
       "left": null,
       "margin": null,
       "max_height": null,
       "max_width": null,
       "min_height": null,
       "min_width": null,
       "object_fit": null,
       "object_position": null,
       "order": null,
       "overflow": null,
       "overflow_x": null,
       "overflow_y": null,
       "padding": null,
       "right": null,
       "top": null,
       "visibility": null,
       "width": null
      }
     },
     "41a88ee4a3e54436a22f7d18f85184d9": {
      "model_module": "@jupyter-widgets/base",
      "model_module_version": "1.2.0",
      "model_name": "LayoutModel",
      "state": {
       "_model_module": "@jupyter-widgets/base",
       "_model_module_version": "1.2.0",
       "_model_name": "LayoutModel",
       "_view_count": null,
       "_view_module": "@jupyter-widgets/base",
       "_view_module_version": "1.2.0",
       "_view_name": "LayoutView",
       "align_content": null,
       "align_items": null,
       "align_self": null,
       "border": null,
       "bottom": null,
       "display": null,
       "flex": null,
       "flex_flow": null,
       "grid_area": null,
       "grid_auto_columns": null,
       "grid_auto_flow": null,
       "grid_auto_rows": null,
       "grid_column": null,
       "grid_gap": null,
       "grid_row": null,
       "grid_template_areas": null,
       "grid_template_columns": null,
       "grid_template_rows": null,
       "height": null,
       "justify_content": null,
       "justify_items": null,
       "left": null,
       "margin": null,
       "max_height": null,
       "max_width": null,
       "min_height": null,
       "min_width": null,
       "object_fit": null,
       "object_position": null,
       "order": null,
       "overflow": null,
       "overflow_x": null,
       "overflow_y": null,
       "padding": null,
       "right": null,
       "top": null,
       "visibility": null,
       "width": null
      }
     },
     "4b727626e6614a77a5e20b2627316735": {
      "model_module": "@jupyter-widgets/controls",
      "model_module_version": "1.5.0",
      "model_name": "FloatProgressModel",
      "state": {
       "_dom_classes": [],
       "_model_module": "@jupyter-widgets/controls",
       "_model_module_version": "1.5.0",
       "_model_name": "FloatProgressModel",
       "_view_count": null,
       "_view_module": "@jupyter-widgets/controls",
       "_view_module_version": "1.5.0",
       "_view_name": "ProgressView",
       "bar_style": "success",
       "description": "",
       "description_tooltip": null,
       "layout": "IPY_MODEL_397ceeaedc354366a41831baf94c20b9",
       "max": 570.0,
       "min": 0.0,
       "orientation": "horizontal",
       "style": "IPY_MODEL_195eb82e33084182b025938b9395adc1",
       "value": 570.0
      }
     },
     "4babaa145b3149aabed7344f5d341551": {
      "model_module": "@jupyter-widgets/controls",
      "model_module_version": "1.5.0",
      "model_name": "HBoxModel",
      "state": {
       "_dom_classes": [],
       "_model_module": "@jupyter-widgets/controls",
       "_model_module_version": "1.5.0",
       "_model_name": "HBoxModel",
       "_view_count": null,
       "_view_module": "@jupyter-widgets/controls",
       "_view_module_version": "1.5.0",
       "_view_name": "HBoxView",
       "box_style": "",
       "children": [
        "IPY_MODEL_9e93e04e49c14e6fb4a06420b6c48947",
        "IPY_MODEL_708483665e164656b8383565c1527a0c",
        "IPY_MODEL_bc6962ca373045e6bfafc4afa9733256"
       ],
       "layout": "IPY_MODEL_6404e154a2aa444b8423f522d6894d21"
      }
     },
     "4cf21acc6c894aee9971d02fba95ef40": {
      "model_module": "@jupyter-widgets/controls",
      "model_module_version": "1.5.0",
      "model_name": "HBoxModel",
      "state": {
       "_dom_classes": [],
       "_model_module": "@jupyter-widgets/controls",
       "_model_module_version": "1.5.0",
       "_model_name": "HBoxModel",
       "_view_count": null,
       "_view_module": "@jupyter-widgets/controls",
       "_view_module_version": "1.5.0",
       "_view_name": "HBoxView",
       "box_style": "",
       "children": [
        "IPY_MODEL_a3dbf76ad6e04c6498e25fd966a40517",
        "IPY_MODEL_2487820f9b3f4be59dc24aa0e6be433e",
        "IPY_MODEL_d526bab6a677483a99325043fb4e96fc"
       ],
       "layout": "IPY_MODEL_6f1a7e58ee3f4337b3d2a44dfd212f18"
      }
     },
     "4d69186fc7be457bbdda4e03f639ec93": {
      "model_module": "@jupyter-widgets/controls",
      "model_module_version": "1.5.0",
      "model_name": "ProgressStyleModel",
      "state": {
       "_model_module": "@jupyter-widgets/controls",
       "_model_module_version": "1.5.0",
       "_model_name": "ProgressStyleModel",
       "_view_count": null,
       "_view_module": "@jupyter-widgets/base",
       "_view_module_version": "1.2.0",
       "_view_name": "StyleView",
       "bar_color": null,
       "description_width": ""
      }
     },
     "4e6281370bb3492b96aa0f38e44a80e3": {
      "model_module": "@jupyter-widgets/base",
      "model_module_version": "1.2.0",
      "model_name": "LayoutModel",
      "state": {
       "_model_module": "@jupyter-widgets/base",
       "_model_module_version": "1.2.0",
       "_model_name": "LayoutModel",
       "_view_count": null,
       "_view_module": "@jupyter-widgets/base",
       "_view_module_version": "1.2.0",
       "_view_name": "LayoutView",
       "align_content": null,
       "align_items": null,
       "align_self": null,
       "border": null,
       "bottom": null,
       "display": null,
       "flex": null,
       "flex_flow": null,
       "grid_area": null,
       "grid_auto_columns": null,
       "grid_auto_flow": null,
       "grid_auto_rows": null,
       "grid_column": null,
       "grid_gap": null,
       "grid_row": null,
       "grid_template_areas": null,
       "grid_template_columns": null,
       "grid_template_rows": null,
       "height": null,
       "justify_content": null,
       "justify_items": null,
       "left": null,
       "margin": null,
       "max_height": null,
       "max_width": null,
       "min_height": null,
       "min_width": null,
       "object_fit": null,
       "object_position": null,
       "order": null,
       "overflow": null,
       "overflow_x": null,
       "overflow_y": null,
       "padding": null,
       "right": null,
       "top": null,
       "visibility": null,
       "width": null
      }
     },
     "4fde15256148464593589f303b0611e5": {
      "model_module": "@jupyter-widgets/controls",
      "model_module_version": "1.5.0",
      "model_name": "DescriptionStyleModel",
      "state": {
       "_model_module": "@jupyter-widgets/controls",
       "_model_module_version": "1.5.0",
       "_model_name": "DescriptionStyleModel",
       "_view_count": null,
       "_view_module": "@jupyter-widgets/base",
       "_view_module_version": "1.2.0",
       "_view_name": "StyleView",
       "description_width": ""
      }
     },
     "508e898e17174d82b5f1a83a957951e5": {
      "model_module": "@jupyter-widgets/base",
      "model_module_version": "1.2.0",
      "model_name": "LayoutModel",
      "state": {
       "_model_module": "@jupyter-widgets/base",
       "_model_module_version": "1.2.0",
       "_model_name": "LayoutModel",
       "_view_count": null,
       "_view_module": "@jupyter-widgets/base",
       "_view_module_version": "1.2.0",
       "_view_name": "LayoutView",
       "align_content": null,
       "align_items": null,
       "align_self": null,
       "border": null,
       "bottom": null,
       "display": null,
       "flex": null,
       "flex_flow": null,
       "grid_area": null,
       "grid_auto_columns": null,
       "grid_auto_flow": null,
       "grid_auto_rows": null,
       "grid_column": null,
       "grid_gap": null,
       "grid_row": null,
       "grid_template_areas": null,
       "grid_template_columns": null,
       "grid_template_rows": null,
       "height": null,
       "justify_content": null,
       "justify_items": null,
       "left": null,
       "margin": null,
       "max_height": null,
       "max_width": null,
       "min_height": null,
       "min_width": null,
       "object_fit": null,
       "object_position": null,
       "order": null,
       "overflow": null,
       "overflow_x": null,
       "overflow_y": null,
       "padding": null,
       "right": null,
       "top": null,
       "visibility": null,
       "width": null
      }
     },
     "583082bdbe704fbdaf6c6452340be4bc": {
      "model_module": "@jupyter-widgets/controls",
      "model_module_version": "1.5.0",
      "model_name": "DescriptionStyleModel",
      "state": {
       "_model_module": "@jupyter-widgets/controls",
       "_model_module_version": "1.5.0",
       "_model_name": "DescriptionStyleModel",
       "_view_count": null,
       "_view_module": "@jupyter-widgets/base",
       "_view_module_version": "1.2.0",
       "_view_name": "StyleView",
       "description_width": ""
      }
     },
     "58ffef2b24e048379bc32c029ae1f5b5": {
      "model_module": "@jupyter-widgets/controls",
      "model_module_version": "1.5.0",
      "model_name": "DescriptionStyleModel",
      "state": {
       "_model_module": "@jupyter-widgets/controls",
       "_model_module_version": "1.5.0",
       "_model_name": "DescriptionStyleModel",
       "_view_count": null,
       "_view_module": "@jupyter-widgets/base",
       "_view_module_version": "1.2.0",
       "_view_name": "StyleView",
       "description_width": ""
      }
     },
     "595facf892e5483fa1f4e1d6e6c0b9a8": {
      "model_module": "@jupyter-widgets/controls",
      "model_module_version": "1.5.0",
      "model_name": "FloatProgressModel",
      "state": {
       "_dom_classes": [],
       "_model_module": "@jupyter-widgets/controls",
       "_model_module_version": "1.5.0",
       "_model_name": "FloatProgressModel",
       "_view_count": null,
       "_view_module": "@jupyter-widgets/controls",
       "_view_module_version": "1.5.0",
       "_view_name": "ProgressView",
       "bar_style": "success",
       "description": "",
       "description_tooltip": null,
       "layout": "IPY_MODEL_e62c4674e3334446af318dd15edc6d54",
       "max": 440449768.0,
       "min": 0.0,
       "orientation": "horizontal",
       "style": "IPY_MODEL_4d69186fc7be457bbdda4e03f639ec93",
       "value": 440449768.0
      }
     },
     "5abb2d71d1664ebc8a91e7537135993b": {
      "model_module": "@jupyter-widgets/controls",
      "model_module_version": "1.5.0",
      "model_name": "DescriptionStyleModel",
      "state": {
       "_model_module": "@jupyter-widgets/controls",
       "_model_module_version": "1.5.0",
       "_model_name": "DescriptionStyleModel",
       "_view_count": null,
       "_view_module": "@jupyter-widgets/base",
       "_view_module_version": "1.2.0",
       "_view_name": "StyleView",
       "description_width": ""
      }
     },
     "5cf55d0e773a4453af6f2b9464219692": {
      "model_module": "@jupyter-widgets/controls",
      "model_module_version": "1.5.0",
      "model_name": "HTMLModel",
      "state": {
       "_dom_classes": [],
       "_model_module": "@jupyter-widgets/controls",
       "_model_module_version": "1.5.0",
       "_model_name": "HTMLModel",
       "_view_count": null,
       "_view_module": "@jupyter-widgets/controls",
       "_view_module_version": "1.5.0",
       "_view_name": "HTMLView",
       "description": "",
       "description_tooltip": null,
       "layout": "IPY_MODEL_ebb8afa47e4a4ebb8f8814bc9f85181c",
       "placeholder": "​",
       "style": "IPY_MODEL_cd7f5298aec743f399b8974e8a41291a",
       "value": "vocab.txt: 100%"
      }
     },
     "63321fc947c744dea0ed0ff7671e3ff7": {
      "model_module": "@jupyter-widgets/controls",
      "model_module_version": "1.5.0",
      "model_name": "HTMLModel",
      "state": {
       "_dom_classes": [],
       "_model_module": "@jupyter-widgets/controls",
       "_model_module_version": "1.5.0",
       "_model_name": "HTMLModel",
       "_view_count": null,
       "_view_module": "@jupyter-widgets/controls",
       "_view_module_version": "1.5.0",
       "_view_name": "HTMLView",
       "description": "",
       "description_tooltip": null,
       "layout": "IPY_MODEL_fbc421b6e9864e54b6f6b1d5502af4fa",
       "placeholder": "​",
       "style": "IPY_MODEL_aa314c1263e54a89b045f46276c2fac9",
       "value": "tokenizer_config.json: 100%"
      }
     },
     "6404e154a2aa444b8423f522d6894d21": {
      "model_module": "@jupyter-widgets/base",
      "model_module_version": "1.2.0",
      "model_name": "LayoutModel",
      "state": {
       "_model_module": "@jupyter-widgets/base",
       "_model_module_version": "1.2.0",
       "_model_name": "LayoutModel",
       "_view_count": null,
       "_view_module": "@jupyter-widgets/base",
       "_view_module_version": "1.2.0",
       "_view_name": "LayoutView",
       "align_content": null,
       "align_items": null,
       "align_self": null,
       "border": null,
       "bottom": null,
       "display": null,
       "flex": null,
       "flex_flow": null,
       "grid_area": null,
       "grid_auto_columns": null,
       "grid_auto_flow": null,
       "grid_auto_rows": null,
       "grid_column": null,
       "grid_gap": null,
       "grid_row": null,
       "grid_template_areas": null,
       "grid_template_columns": null,
       "grid_template_rows": null,
       "height": null,
       "justify_content": null,
       "justify_items": null,
       "left": null,
       "margin": null,
       "max_height": null,
       "max_width": null,
       "min_height": null,
       "min_width": null,
       "object_fit": null,
       "object_position": null,
       "order": null,
       "overflow": null,
       "overflow_x": null,
       "overflow_y": null,
       "padding": null,
       "right": null,
       "top": null,
       "visibility": null,
       "width": null
      }
     },
     "6dad6d0b81c14aa4bb5eb499c05a0826": {
      "model_module": "@jupyter-widgets/controls",
      "model_module_version": "1.5.0",
      "model_name": "DescriptionStyleModel",
      "state": {
       "_model_module": "@jupyter-widgets/controls",
       "_model_module_version": "1.5.0",
       "_model_name": "DescriptionStyleModel",
       "_view_count": null,
       "_view_module": "@jupyter-widgets/base",
       "_view_module_version": "1.2.0",
       "_view_name": "StyleView",
       "description_width": ""
      }
     },
     "6e71073cea4a48c69a0a77c8c3f03f02": {
      "model_module": "@jupyter-widgets/base",
      "model_module_version": "1.2.0",
      "model_name": "LayoutModel",
      "state": {
       "_model_module": "@jupyter-widgets/base",
       "_model_module_version": "1.2.0",
       "_model_name": "LayoutModel",
       "_view_count": null,
       "_view_module": "@jupyter-widgets/base",
       "_view_module_version": "1.2.0",
       "_view_name": "LayoutView",
       "align_content": null,
       "align_items": null,
       "align_self": null,
       "border": null,
       "bottom": null,
       "display": null,
       "flex": null,
       "flex_flow": null,
       "grid_area": null,
       "grid_auto_columns": null,
       "grid_auto_flow": null,
       "grid_auto_rows": null,
       "grid_column": null,
       "grid_gap": null,
       "grid_row": null,
       "grid_template_areas": null,
       "grid_template_columns": null,
       "grid_template_rows": null,
       "height": null,
       "justify_content": null,
       "justify_items": null,
       "left": null,
       "margin": null,
       "max_height": null,
       "max_width": null,
       "min_height": null,
       "min_width": null,
       "object_fit": null,
       "object_position": null,
       "order": null,
       "overflow": null,
       "overflow_x": null,
       "overflow_y": null,
       "padding": null,
       "right": null,
       "top": null,
       "visibility": null,
       "width": null
      }
     },
     "6f1a7e58ee3f4337b3d2a44dfd212f18": {
      "model_module": "@jupyter-widgets/base",
      "model_module_version": "1.2.0",
      "model_name": "LayoutModel",
      "state": {
       "_model_module": "@jupyter-widgets/base",
       "_model_module_version": "1.2.0",
       "_model_name": "LayoutModel",
       "_view_count": null,
       "_view_module": "@jupyter-widgets/base",
       "_view_module_version": "1.2.0",
       "_view_name": "LayoutView",
       "align_content": null,
       "align_items": null,
       "align_self": null,
       "border": null,
       "bottom": null,
       "display": null,
       "flex": null,
       "flex_flow": null,
       "grid_area": null,
       "grid_auto_columns": null,
       "grid_auto_flow": null,
       "grid_auto_rows": null,
       "grid_column": null,
       "grid_gap": null,
       "grid_row": null,
       "grid_template_areas": null,
       "grid_template_columns": null,
       "grid_template_rows": null,
       "height": null,
       "justify_content": null,
       "justify_items": null,
       "left": null,
       "margin": null,
       "max_height": null,
       "max_width": null,
       "min_height": null,
       "min_width": null,
       "object_fit": null,
       "object_position": null,
       "order": null,
       "overflow": null,
       "overflow_x": null,
       "overflow_y": null,
       "padding": null,
       "right": null,
       "top": null,
       "visibility": null,
       "width": null
      }
     },
     "708483665e164656b8383565c1527a0c": {
      "model_module": "@jupyter-widgets/controls",
      "model_module_version": "1.5.0",
      "model_name": "FloatProgressModel",
      "state": {
       "_dom_classes": [],
       "_model_module": "@jupyter-widgets/controls",
       "_model_module_version": "1.5.0",
       "_model_name": "FloatProgressModel",
       "_view_count": null,
       "_view_module": "@jupyter-widgets/controls",
       "_view_module_version": "1.5.0",
       "_view_name": "ProgressView",
       "bar_style": "success",
       "description": "",
       "description_tooltip": null,
       "layout": "IPY_MODEL_0418121142484f348431deb71e330808",
       "max": 466062.0,
       "min": 0.0,
       "orientation": "horizontal",
       "style": "IPY_MODEL_f7ee5020d76d40dfadc7ded89db8e490",
       "value": 466062.0
      }
     },
     "72fed50e710c438cae0eac294f952ef9": {
      "model_module": "@jupyter-widgets/base",
      "model_module_version": "1.2.0",
      "model_name": "LayoutModel",
      "state": {
       "_model_module": "@jupyter-widgets/base",
       "_model_module_version": "1.2.0",
       "_model_name": "LayoutModel",
       "_view_count": null,
       "_view_module": "@jupyter-widgets/base",
       "_view_module_version": "1.2.0",
       "_view_name": "LayoutView",
       "align_content": null,
       "align_items": null,
       "align_self": null,
       "border": null,
       "bottom": null,
       "display": null,
       "flex": null,
       "flex_flow": null,
       "grid_area": null,
       "grid_auto_columns": null,
       "grid_auto_flow": null,
       "grid_auto_rows": null,
       "grid_column": null,
       "grid_gap": null,
       "grid_row": null,
       "grid_template_areas": null,
       "grid_template_columns": null,
       "grid_template_rows": null,
       "height": null,
       "justify_content": null,
       "justify_items": null,
       "left": null,
       "margin": null,
       "max_height": null,
       "max_width": null,
       "min_height": null,
       "min_width": null,
       "object_fit": null,
       "object_position": null,
       "order": null,
       "overflow": null,
       "overflow_x": null,
       "overflow_y": null,
       "padding": null,
       "right": null,
       "top": null,
       "visibility": null,
       "width": null
      }
     },
     "81795169afeb4d50995ab9284fba4b7d": {
      "model_module": "@jupyter-widgets/base",
      "model_module_version": "1.2.0",
      "model_name": "LayoutModel",
      "state": {
       "_model_module": "@jupyter-widgets/base",
       "_model_module_version": "1.2.0",
       "_model_name": "LayoutModel",
       "_view_count": null,
       "_view_module": "@jupyter-widgets/base",
       "_view_module_version": "1.2.0",
       "_view_name": "LayoutView",
       "align_content": null,
       "align_items": null,
       "align_self": null,
       "border": null,
       "bottom": null,
       "display": null,
       "flex": null,
       "flex_flow": null,
       "grid_area": null,
       "grid_auto_columns": null,
       "grid_auto_flow": null,
       "grid_auto_rows": null,
       "grid_column": null,
       "grid_gap": null,
       "grid_row": null,
       "grid_template_areas": null,
       "grid_template_columns": null,
       "grid_template_rows": null,
       "height": null,
       "justify_content": null,
       "justify_items": null,
       "left": null,
       "margin": null,
       "max_height": null,
       "max_width": null,
       "min_height": null,
       "min_width": null,
       "object_fit": null,
       "object_position": null,
       "order": null,
       "overflow": null,
       "overflow_x": null,
       "overflow_y": null,
       "padding": null,
       "right": null,
       "top": null,
       "visibility": null,
       "width": null
      }
     },
     "82bd9e901bab4ec1b3afe0ae9fd064c3": {
      "model_module": "@jupyter-widgets/controls",
      "model_module_version": "1.5.0",
      "model_name": "FloatProgressModel",
      "state": {
       "_dom_classes": [],
       "_model_module": "@jupyter-widgets/controls",
       "_model_module_version": "1.5.0",
       "_model_name": "FloatProgressModel",
       "_view_count": null,
       "_view_module": "@jupyter-widgets/controls",
       "_view_module_version": "1.5.0",
       "_view_name": "ProgressView",
       "bar_style": "success",
       "description": "",
       "description_tooltip": null,
       "layout": "IPY_MODEL_90da663b26d64dbe8418943eb4ac8047",
       "max": 231508.0,
       "min": 0.0,
       "orientation": "horizontal",
       "style": "IPY_MODEL_8414bdc553284c51a6a2050d3aea7a79",
       "value": 231508.0
      }
     },
     "8414bdc553284c51a6a2050d3aea7a79": {
      "model_module": "@jupyter-widgets/controls",
      "model_module_version": "1.5.0",
      "model_name": "ProgressStyleModel",
      "state": {
       "_model_module": "@jupyter-widgets/controls",
       "_model_module_version": "1.5.0",
       "_model_name": "ProgressStyleModel",
       "_view_count": null,
       "_view_module": "@jupyter-widgets/base",
       "_view_module_version": "1.2.0",
       "_view_name": "StyleView",
       "bar_color": null,
       "description_width": ""
      }
     },
     "8bcf07e11fac4a268662a33ae207f4ad": {
      "model_module": "@jupyter-widgets/controls",
      "model_module_version": "1.5.0",
      "model_name": "HBoxModel",
      "state": {
       "_dom_classes": [],
       "_model_module": "@jupyter-widgets/controls",
       "_model_module_version": "1.5.0",
       "_model_name": "HBoxModel",
       "_view_count": null,
       "_view_module": "@jupyter-widgets/controls",
       "_view_module_version": "1.5.0",
       "_view_name": "HBoxView",
       "box_style": "",
       "children": [
        "IPY_MODEL_bbb61146dd3147bd8d173aa373ecdaa1",
        "IPY_MODEL_4b727626e6614a77a5e20b2627316735",
        "IPY_MODEL_d50f7b8b453c46a2bfec8a0129497bf0"
       ],
       "layout": "IPY_MODEL_40e85bd642724f588d7c9ef901e11d40"
      }
     },
     "90da663b26d64dbe8418943eb4ac8047": {
      "model_module": "@jupyter-widgets/base",
      "model_module_version": "1.2.0",
      "model_name": "LayoutModel",
      "state": {
       "_model_module": "@jupyter-widgets/base",
       "_model_module_version": "1.2.0",
       "_model_name": "LayoutModel",
       "_view_count": null,
       "_view_module": "@jupyter-widgets/base",
       "_view_module_version": "1.2.0",
       "_view_name": "LayoutView",
       "align_content": null,
       "align_items": null,
       "align_self": null,
       "border": null,
       "bottom": null,
       "display": null,
       "flex": null,
       "flex_flow": null,
       "grid_area": null,
       "grid_auto_columns": null,
       "grid_auto_flow": null,
       "grid_auto_rows": null,
       "grid_column": null,
       "grid_gap": null,
       "grid_row": null,
       "grid_template_areas": null,
       "grid_template_columns": null,
       "grid_template_rows": null,
       "height": null,
       "justify_content": null,
       "justify_items": null,
       "left": null,
       "margin": null,
       "max_height": null,
       "max_width": null,
       "min_height": null,
       "min_width": null,
       "object_fit": null,
       "object_position": null,
       "order": null,
       "overflow": null,
       "overflow_x": null,
       "overflow_y": null,
       "padding": null,
       "right": null,
       "top": null,
       "visibility": null,
       "width": null
      }
     },
     "99c64f8395054c3cb7ceb3764a2ed16e": {
      "model_module": "@jupyter-widgets/controls",
      "model_module_version": "1.5.0",
      "model_name": "HBoxModel",
      "state": {
       "_dom_classes": [],
       "_model_module": "@jupyter-widgets/controls",
       "_model_module_version": "1.5.0",
       "_model_name": "HBoxModel",
       "_view_count": null,
       "_view_module": "@jupyter-widgets/controls",
       "_view_module_version": "1.5.0",
       "_view_name": "HBoxView",
       "box_style": "",
       "children": [
        "IPY_MODEL_e97fbf69d2004bac90359e230b25799e",
        "IPY_MODEL_595facf892e5483fa1f4e1d6e6c0b9a8",
        "IPY_MODEL_d3bc6b9fcd2846a28c2c78ca5dd524fe"
       ],
       "layout": "IPY_MODEL_a39a99e042d94d20806163841fec3180"
      }
     },
     "9a8e2239d94b4c1e83b51eff6a3f3769": {
      "model_module": "@jupyter-widgets/base",
      "model_module_version": "1.2.0",
      "model_name": "LayoutModel",
      "state": {
       "_model_module": "@jupyter-widgets/base",
       "_model_module_version": "1.2.0",
       "_model_name": "LayoutModel",
       "_view_count": null,
       "_view_module": "@jupyter-widgets/base",
       "_view_module_version": "1.2.0",
       "_view_name": "LayoutView",
       "align_content": null,
       "align_items": null,
       "align_self": null,
       "border": null,
       "bottom": null,
       "display": null,
       "flex": null,
       "flex_flow": null,
       "grid_area": null,
       "grid_auto_columns": null,
       "grid_auto_flow": null,
       "grid_auto_rows": null,
       "grid_column": null,
       "grid_gap": null,
       "grid_row": null,
       "grid_template_areas": null,
       "grid_template_columns": null,
       "grid_template_rows": null,
       "height": null,
       "justify_content": null,
       "justify_items": null,
       "left": null,
       "margin": null,
       "max_height": null,
       "max_width": null,
       "min_height": null,
       "min_width": null,
       "object_fit": null,
       "object_position": null,
       "order": null,
       "overflow": null,
       "overflow_x": null,
       "overflow_y": null,
       "padding": null,
       "right": null,
       "top": null,
       "visibility": null,
       "width": null
      }
     },
     "9e0983451bb54939b8e2b25b1403c0c8": {
      "model_module": "@jupyter-widgets/controls",
      "model_module_version": "1.5.0",
      "model_name": "ProgressStyleModel",
      "state": {
       "_model_module": "@jupyter-widgets/controls",
       "_model_module_version": "1.5.0",
       "_model_name": "ProgressStyleModel",
       "_view_count": null,
       "_view_module": "@jupyter-widgets/base",
       "_view_module_version": "1.2.0",
       "_view_name": "StyleView",
       "bar_color": null,
       "description_width": ""
      }
     },
     "9e93e04e49c14e6fb4a06420b6c48947": {
      "model_module": "@jupyter-widgets/controls",
      "model_module_version": "1.5.0",
      "model_name": "HTMLModel",
      "state": {
       "_dom_classes": [],
       "_model_module": "@jupyter-widgets/controls",
       "_model_module_version": "1.5.0",
       "_model_name": "HTMLModel",
       "_view_count": null,
       "_view_module": "@jupyter-widgets/controls",
       "_view_module_version": "1.5.0",
       "_view_name": "HTMLView",
       "description": "",
       "description_tooltip": null,
       "layout": "IPY_MODEL_6e71073cea4a48c69a0a77c8c3f03f02",
       "placeholder": "​",
       "style": "IPY_MODEL_37b98f8990af4e709ab938e9f1d07d6d",
       "value": "tokenizer.json: 100%"
      }
     },
     "a316651993ca4e56b386d93a1663c4e6": {
      "model_module": "@jupyter-widgets/base",
      "model_module_version": "1.2.0",
      "model_name": "LayoutModel",
      "state": {
       "_model_module": "@jupyter-widgets/base",
       "_model_module_version": "1.2.0",
       "_model_name": "LayoutModel",
       "_view_count": null,
       "_view_module": "@jupyter-widgets/base",
       "_view_module_version": "1.2.0",
       "_view_name": "LayoutView",
       "align_content": null,
       "align_items": null,
       "align_self": null,
       "border": null,
       "bottom": null,
       "display": null,
       "flex": null,
       "flex_flow": null,
       "grid_area": null,
       "grid_auto_columns": null,
       "grid_auto_flow": null,
       "grid_auto_rows": null,
       "grid_column": null,
       "grid_gap": null,
       "grid_row": null,
       "grid_template_areas": null,
       "grid_template_columns": null,
       "grid_template_rows": null,
       "height": null,
       "justify_content": null,
       "justify_items": null,
       "left": null,
       "margin": null,
       "max_height": null,
       "max_width": null,
       "min_height": null,
       "min_width": null,
       "object_fit": null,
       "object_position": null,
       "order": null,
       "overflow": null,
       "overflow_x": null,
       "overflow_y": null,
       "padding": null,
       "right": null,
       "top": null,
       "visibility": null,
       "width": null
      }
     },
     "a39a99e042d94d20806163841fec3180": {
      "model_module": "@jupyter-widgets/base",
      "model_module_version": "1.2.0",
      "model_name": "LayoutModel",
      "state": {
       "_model_module": "@jupyter-widgets/base",
       "_model_module_version": "1.2.0",
       "_model_name": "LayoutModel",
       "_view_count": null,
       "_view_module": "@jupyter-widgets/base",
       "_view_module_version": "1.2.0",
       "_view_name": "LayoutView",
       "align_content": null,
       "align_items": null,
       "align_self": null,
       "border": null,
       "bottom": null,
       "display": null,
       "flex": null,
       "flex_flow": null,
       "grid_area": null,
       "grid_auto_columns": null,
       "grid_auto_flow": null,
       "grid_auto_rows": null,
       "grid_column": null,
       "grid_gap": null,
       "grid_row": null,
       "grid_template_areas": null,
       "grid_template_columns": null,
       "grid_template_rows": null,
       "height": null,
       "justify_content": null,
       "justify_items": null,
       "left": null,
       "margin": null,
       "max_height": null,
       "max_width": null,
       "min_height": null,
       "min_width": null,
       "object_fit": null,
       "object_position": null,
       "order": null,
       "overflow": null,
       "overflow_x": null,
       "overflow_y": null,
       "padding": null,
       "right": null,
       "top": null,
       "visibility": null,
       "width": null
      }
     },
     "a3dbf76ad6e04c6498e25fd966a40517": {
      "model_module": "@jupyter-widgets/controls",
      "model_module_version": "1.5.0",
      "model_name": "HTMLModel",
      "state": {
       "_dom_classes": [],
       "_model_module": "@jupyter-widgets/controls",
       "_model_module_version": "1.5.0",
       "_model_name": "HTMLModel",
       "_view_count": null,
       "_view_module": "@jupyter-widgets/controls",
       "_view_module_version": "1.5.0",
       "_view_name": "HTMLView",
       "description": "",
       "description_tooltip": null,
       "layout": "IPY_MODEL_0b90bbb7e632444a9fe9d6fc5c6c0b6a",
       "placeholder": "​",
       "style": "IPY_MODEL_e2a18ec1c1e04a95ba44288d3d122c84",
       "value": "model.safetensors: 100%"
      }
     },
     "aa314c1263e54a89b045f46276c2fac9": {
      "model_module": "@jupyter-widgets/controls",
      "model_module_version": "1.5.0",
      "model_name": "DescriptionStyleModel",
      "state": {
       "_model_module": "@jupyter-widgets/controls",
       "_model_module_version": "1.5.0",
       "_model_name": "DescriptionStyleModel",
       "_view_count": null,
       "_view_module": "@jupyter-widgets/base",
       "_view_module_version": "1.2.0",
       "_view_name": "StyleView",
       "description_width": ""
      }
     },
     "aac94d8042314633a0174f87368aad4b": {
      "model_module": "@jupyter-widgets/controls",
      "model_module_version": "1.5.0",
      "model_name": "DescriptionStyleModel",
      "state": {
       "_model_module": "@jupyter-widgets/controls",
       "_model_module_version": "1.5.0",
       "_model_name": "DescriptionStyleModel",
       "_view_count": null,
       "_view_module": "@jupyter-widgets/base",
       "_view_module_version": "1.2.0",
       "_view_name": "StyleView",
       "description_width": ""
      }
     },
     "b7e1d61fdd5e4427b22bb73ea33a1273": {
      "model_module": "@jupyter-widgets/base",
      "model_module_version": "1.2.0",
      "model_name": "LayoutModel",
      "state": {
       "_model_module": "@jupyter-widgets/base",
       "_model_module_version": "1.2.0",
       "_model_name": "LayoutModel",
       "_view_count": null,
       "_view_module": "@jupyter-widgets/base",
       "_view_module_version": "1.2.0",
       "_view_name": "LayoutView",
       "align_content": null,
       "align_items": null,
       "align_self": null,
       "border": null,
       "bottom": null,
       "display": null,
       "flex": null,
       "flex_flow": null,
       "grid_area": null,
       "grid_auto_columns": null,
       "grid_auto_flow": null,
       "grid_auto_rows": null,
       "grid_column": null,
       "grid_gap": null,
       "grid_row": null,
       "grid_template_areas": null,
       "grid_template_columns": null,
       "grid_template_rows": null,
       "height": null,
       "justify_content": null,
       "justify_items": null,
       "left": null,
       "margin": null,
       "max_height": null,
       "max_width": null,
       "min_height": null,
       "min_width": null,
       "object_fit": null,
       "object_position": null,
       "order": null,
       "overflow": null,
       "overflow_x": null,
       "overflow_y": null,
       "padding": null,
       "right": null,
       "top": null,
       "visibility": null,
       "width": null
      }
     },
     "b9992b4e4e1c4055a9f52ec7e000fa67": {
      "model_module": "@jupyter-widgets/controls",
      "model_module_version": "1.5.0",
      "model_name": "HTMLModel",
      "state": {
       "_dom_classes": [],
       "_model_module": "@jupyter-widgets/controls",
       "_model_module_version": "1.5.0",
       "_model_name": "HTMLModel",
       "_view_count": null,
       "_view_module": "@jupyter-widgets/controls",
       "_view_module_version": "1.5.0",
       "_view_name": "HTMLView",
       "description": "",
       "description_tooltip": null,
       "layout": "IPY_MODEL_9a8e2239d94b4c1e83b51eff6a3f3769",
       "placeholder": "​",
       "style": "IPY_MODEL_f3801ff497c94c039a0f1e1ae5aa681a",
       "value": " 232k/232k [00:00&lt;00:00, 1.89MB/s]"
      }
     },
     "bbb61146dd3147bd8d173aa373ecdaa1": {
      "model_module": "@jupyter-widgets/controls",
      "model_module_version": "1.5.0",
      "model_name": "HTMLModel",
      "state": {
       "_dom_classes": [],
       "_model_module": "@jupyter-widgets/controls",
       "_model_module_version": "1.5.0",
       "_model_name": "HTMLModel",
       "_view_count": null,
       "_view_module": "@jupyter-widgets/controls",
       "_view_module_version": "1.5.0",
       "_view_name": "HTMLView",
       "description": "",
       "description_tooltip": null,
       "layout": "IPY_MODEL_bd718321abcf4418a82c5d256976f238",
       "placeholder": "​",
       "style": "IPY_MODEL_583082bdbe704fbdaf6c6452340be4bc",
       "value": "config.json: 100%"
      }
     },
     "bc6962ca373045e6bfafc4afa9733256": {
      "model_module": "@jupyter-widgets/controls",
      "model_module_version": "1.5.0",
      "model_name": "HTMLModel",
      "state": {
       "_dom_classes": [],
       "_model_module": "@jupyter-widgets/controls",
       "_model_module_version": "1.5.0",
       "_model_name": "HTMLModel",
       "_view_count": null,
       "_view_module": "@jupyter-widgets/controls",
       "_view_module_version": "1.5.0",
       "_view_name": "HTMLView",
       "description": "",
       "description_tooltip": null,
       "layout": "IPY_MODEL_b7e1d61fdd5e4427b22bb73ea33a1273",
       "placeholder": "​",
       "style": "IPY_MODEL_6dad6d0b81c14aa4bb5eb499c05a0826",
       "value": " 466k/466k [00:00&lt;00:00, 2.51MB/s]"
      }
     },
     "bd718321abcf4418a82c5d256976f238": {
      "model_module": "@jupyter-widgets/base",
      "model_module_version": "1.2.0",
      "model_name": "LayoutModel",
      "state": {
       "_model_module": "@jupyter-widgets/base",
       "_model_module_version": "1.2.0",
       "_model_name": "LayoutModel",
       "_view_count": null,
       "_view_module": "@jupyter-widgets/base",
       "_view_module_version": "1.2.0",
       "_view_name": "LayoutView",
       "align_content": null,
       "align_items": null,
       "align_self": null,
       "border": null,
       "bottom": null,
       "display": null,
       "flex": null,
       "flex_flow": null,
       "grid_area": null,
       "grid_auto_columns": null,
       "grid_auto_flow": null,
       "grid_auto_rows": null,
       "grid_column": null,
       "grid_gap": null,
       "grid_row": null,
       "grid_template_areas": null,
       "grid_template_columns": null,
       "grid_template_rows": null,
       "height": null,
       "justify_content": null,
       "justify_items": null,
       "left": null,
       "margin": null,
       "max_height": null,
       "max_width": null,
       "min_height": null,
       "min_width": null,
       "object_fit": null,
       "object_position": null,
       "order": null,
       "overflow": null,
       "overflow_x": null,
       "overflow_y": null,
       "padding": null,
       "right": null,
       "top": null,
       "visibility": null,
       "width": null
      }
     },
     "c3be06b423324fc382ed054feeafff97": {
      "model_module": "@jupyter-widgets/base",
      "model_module_version": "1.2.0",
      "model_name": "LayoutModel",
      "state": {
       "_model_module": "@jupyter-widgets/base",
       "_model_module_version": "1.2.0",
       "_model_name": "LayoutModel",
       "_view_count": null,
       "_view_module": "@jupyter-widgets/base",
       "_view_module_version": "1.2.0",
       "_view_name": "LayoutView",
       "align_content": null,
       "align_items": null,
       "align_self": null,
       "border": null,
       "bottom": null,
       "display": null,
       "flex": null,
       "flex_flow": null,
       "grid_area": null,
       "grid_auto_columns": null,
       "grid_auto_flow": null,
       "grid_auto_rows": null,
       "grid_column": null,
       "grid_gap": null,
       "grid_row": null,
       "grid_template_areas": null,
       "grid_template_columns": null,
       "grid_template_rows": null,
       "height": null,
       "justify_content": null,
       "justify_items": null,
       "left": null,
       "margin": null,
       "max_height": null,
       "max_width": null,
       "min_height": null,
       "min_width": null,
       "object_fit": null,
       "object_position": null,
       "order": null,
       "overflow": null,
       "overflow_x": null,
       "overflow_y": null,
       "padding": null,
       "right": null,
       "top": null,
       "visibility": null,
       "width": null
      }
     },
     "cd7f5298aec743f399b8974e8a41291a": {
      "model_module": "@jupyter-widgets/controls",
      "model_module_version": "1.5.0",
      "model_name": "DescriptionStyleModel",
      "state": {
       "_model_module": "@jupyter-widgets/controls",
       "_model_module_version": "1.5.0",
       "_model_name": "DescriptionStyleModel",
       "_view_count": null,
       "_view_module": "@jupyter-widgets/base",
       "_view_module_version": "1.2.0",
       "_view_name": "StyleView",
       "description_width": ""
      }
     },
     "d3bc6b9fcd2846a28c2c78ca5dd524fe": {
      "model_module": "@jupyter-widgets/controls",
      "model_module_version": "1.5.0",
      "model_name": "HTMLModel",
      "state": {
       "_dom_classes": [],
       "_model_module": "@jupyter-widgets/controls",
       "_model_module_version": "1.5.0",
       "_model_name": "HTMLModel",
       "_view_count": null,
       "_view_module": "@jupyter-widgets/controls",
       "_view_module_version": "1.5.0",
       "_view_name": "HTMLView",
       "description": "",
       "description_tooltip": null,
       "layout": "IPY_MODEL_f72e995aaa9540b78004594d91336f77",
       "placeholder": "​",
       "style": "IPY_MODEL_aac94d8042314633a0174f87368aad4b",
       "value": " 440M/440M [00:01&lt;00:00, 316MB/s]"
      }
     },
     "d50f7b8b453c46a2bfec8a0129497bf0": {
      "model_module": "@jupyter-widgets/controls",
      "model_module_version": "1.5.0",
      "model_name": "HTMLModel",
      "state": {
       "_dom_classes": [],
       "_model_module": "@jupyter-widgets/controls",
       "_model_module_version": "1.5.0",
       "_model_name": "HTMLModel",
       "_view_count": null,
       "_view_module": "@jupyter-widgets/controls",
       "_view_module_version": "1.5.0",
       "_view_name": "HTMLView",
       "description": "",
       "description_tooltip": null,
       "layout": "IPY_MODEL_72fed50e710c438cae0eac294f952ef9",
       "placeholder": "​",
       "style": "IPY_MODEL_58ffef2b24e048379bc32c029ae1f5b5",
       "value": " 570/570 [00:00&lt;00:00, 28.4kB/s]"
      }
     },
     "d526bab6a677483a99325043fb4e96fc": {
      "model_module": "@jupyter-widgets/controls",
      "model_module_version": "1.5.0",
      "model_name": "HTMLModel",
      "state": {
       "_dom_classes": [],
       "_model_module": "@jupyter-widgets/controls",
       "_model_module_version": "1.5.0",
       "_model_name": "HTMLModel",
       "_view_count": null,
       "_view_module": "@jupyter-widgets/controls",
       "_view_module_version": "1.5.0",
       "_view_name": "HTMLView",
       "description": "",
       "description_tooltip": null,
       "layout": "IPY_MODEL_41a88ee4a3e54436a22f7d18f85184d9",
       "placeholder": "​",
       "style": "IPY_MODEL_e5064a23df1447dbbbe3b9b409a93609",
       "value": " 21.4M/21.4M [00:00&lt;00:00, 252MB/s]"
      }
     },
     "d61593dab64c47e8a8058ec615ed6df6": {
      "model_module": "@jupyter-widgets/controls",
      "model_module_version": "1.5.0",
      "model_name": "FloatProgressModel",
      "state": {
       "_dom_classes": [],
       "_model_module": "@jupyter-widgets/controls",
       "_model_module_version": "1.5.0",
       "_model_name": "FloatProgressModel",
       "_view_count": null,
       "_view_module": "@jupyter-widgets/controls",
       "_view_module_version": "1.5.0",
       "_view_name": "ProgressView",
       "bar_style": "success",
       "description": "",
       "description_tooltip": null,
       "layout": "IPY_MODEL_a316651993ca4e56b386d93a1663c4e6",
       "max": 48.0,
       "min": 0.0,
       "orientation": "horizontal",
       "style": "IPY_MODEL_038e76f86f194695a548ce9c38dfab5f",
       "value": 48.0
      }
     },
     "e2a18ec1c1e04a95ba44288d3d122c84": {
      "model_module": "@jupyter-widgets/controls",
      "model_module_version": "1.5.0",
      "model_name": "DescriptionStyleModel",
      "state": {
       "_model_module": "@jupyter-widgets/controls",
       "_model_module_version": "1.5.0",
       "_model_name": "DescriptionStyleModel",
       "_view_count": null,
       "_view_module": "@jupyter-widgets/base",
       "_view_module_version": "1.2.0",
       "_view_name": "StyleView",
       "description_width": ""
      }
     },
     "e5064a23df1447dbbbe3b9b409a93609": {
      "model_module": "@jupyter-widgets/controls",
      "model_module_version": "1.5.0",
      "model_name": "DescriptionStyleModel",
      "state": {
       "_model_module": "@jupyter-widgets/controls",
       "_model_module_version": "1.5.0",
       "_model_name": "DescriptionStyleModel",
       "_view_count": null,
       "_view_module": "@jupyter-widgets/base",
       "_view_module_version": "1.2.0",
       "_view_name": "StyleView",
       "description_width": ""
      }
     },
     "e6238242f3384625bd7618071ddf9d8d": {
      "model_module": "@jupyter-widgets/controls",
      "model_module_version": "1.5.0",
      "model_name": "HBoxModel",
      "state": {
       "_dom_classes": [],
       "_model_module": "@jupyter-widgets/controls",
       "_model_module_version": "1.5.0",
       "_model_name": "HBoxModel",
       "_view_count": null,
       "_view_module": "@jupyter-widgets/controls",
       "_view_module_version": "1.5.0",
       "_view_name": "HBoxView",
       "box_style": "",
       "children": [
        "IPY_MODEL_5cf55d0e773a4453af6f2b9464219692",
        "IPY_MODEL_82bd9e901bab4ec1b3afe0ae9fd064c3",
        "IPY_MODEL_b9992b4e4e1c4055a9f52ec7e000fa67"
       ],
       "layout": "IPY_MODEL_309855b0a7fd482ea57806ad9210fa47"
      }
     },
     "e62c4674e3334446af318dd15edc6d54": {
      "model_module": "@jupyter-widgets/base",
      "model_module_version": "1.2.0",
      "model_name": "LayoutModel",
      "state": {
       "_model_module": "@jupyter-widgets/base",
       "_model_module_version": "1.2.0",
       "_model_name": "LayoutModel",
       "_view_count": null,
       "_view_module": "@jupyter-widgets/base",
       "_view_module_version": "1.2.0",
       "_view_name": "LayoutView",
       "align_content": null,
       "align_items": null,
       "align_self": null,
       "border": null,
       "bottom": null,
       "display": null,
       "flex": null,
       "flex_flow": null,
       "grid_area": null,
       "grid_auto_columns": null,
       "grid_auto_flow": null,
       "grid_auto_rows": null,
       "grid_column": null,
       "grid_gap": null,
       "grid_row": null,
       "grid_template_areas": null,
       "grid_template_columns": null,
       "grid_template_rows": null,
       "height": null,
       "justify_content": null,
       "justify_items": null,
       "left": null,
       "margin": null,
       "max_height": null,
       "max_width": null,
       "min_height": null,
       "min_width": null,
       "object_fit": null,
       "object_position": null,
       "order": null,
       "overflow": null,
       "overflow_x": null,
       "overflow_y": null,
       "padding": null,
       "right": null,
       "top": null,
       "visibility": null,
       "width": null
      }
     },
     "e97fbf69d2004bac90359e230b25799e": {
      "model_module": "@jupyter-widgets/controls",
      "model_module_version": "1.5.0",
      "model_name": "HTMLModel",
      "state": {
       "_dom_classes": [],
       "_model_module": "@jupyter-widgets/controls",
       "_model_module_version": "1.5.0",
       "_model_name": "HTMLModel",
       "_view_count": null,
       "_view_module": "@jupyter-widgets/controls",
       "_view_module_version": "1.5.0",
       "_view_name": "HTMLView",
       "description": "",
       "description_tooltip": null,
       "layout": "IPY_MODEL_c3be06b423324fc382ed054feeafff97",
       "placeholder": "​",
       "style": "IPY_MODEL_5abb2d71d1664ebc8a91e7537135993b",
       "value": "model.safetensors: 100%"
      }
     },
     "ebb8afa47e4a4ebb8f8814bc9f85181c": {
      "model_module": "@jupyter-widgets/base",
      "model_module_version": "1.2.0",
      "model_name": "LayoutModel",
      "state": {
       "_model_module": "@jupyter-widgets/base",
       "_model_module_version": "1.2.0",
       "_model_name": "LayoutModel",
       "_view_count": null,
       "_view_module": "@jupyter-widgets/base",
       "_view_module_version": "1.2.0",
       "_view_name": "LayoutView",
       "align_content": null,
       "align_items": null,
       "align_self": null,
       "border": null,
       "bottom": null,
       "display": null,
       "flex": null,
       "flex_flow": null,
       "grid_area": null,
       "grid_auto_columns": null,
       "grid_auto_flow": null,
       "grid_auto_rows": null,
       "grid_column": null,
       "grid_gap": null,
       "grid_row": null,
       "grid_template_areas": null,
       "grid_template_columns": null,
       "grid_template_rows": null,
       "height": null,
       "justify_content": null,
       "justify_items": null,
       "left": null,
       "margin": null,
       "max_height": null,
       "max_width": null,
       "min_height": null,
       "min_width": null,
       "object_fit": null,
       "object_position": null,
       "order": null,
       "overflow": null,
       "overflow_x": null,
       "overflow_y": null,
       "padding": null,
       "right": null,
       "top": null,
       "visibility": null,
       "width": null
      }
     },
     "f3801ff497c94c039a0f1e1ae5aa681a": {
      "model_module": "@jupyter-widgets/controls",
      "model_module_version": "1.5.0",
      "model_name": "DescriptionStyleModel",
      "state": {
       "_model_module": "@jupyter-widgets/controls",
       "_model_module_version": "1.5.0",
       "_model_name": "DescriptionStyleModel",
       "_view_count": null,
       "_view_module": "@jupyter-widgets/base",
       "_view_module_version": "1.2.0",
       "_view_name": "StyleView",
       "description_width": ""
      }
     },
     "f72e995aaa9540b78004594d91336f77": {
      "model_module": "@jupyter-widgets/base",
      "model_module_version": "1.2.0",
      "model_name": "LayoutModel",
      "state": {
       "_model_module": "@jupyter-widgets/base",
       "_model_module_version": "1.2.0",
       "_model_name": "LayoutModel",
       "_view_count": null,
       "_view_module": "@jupyter-widgets/base",
       "_view_module_version": "1.2.0",
       "_view_name": "LayoutView",
       "align_content": null,
       "align_items": null,
       "align_self": null,
       "border": null,
       "bottom": null,
       "display": null,
       "flex": null,
       "flex_flow": null,
       "grid_area": null,
       "grid_auto_columns": null,
       "grid_auto_flow": null,
       "grid_auto_rows": null,
       "grid_column": null,
       "grid_gap": null,
       "grid_row": null,
       "grid_template_areas": null,
       "grid_template_columns": null,
       "grid_template_rows": null,
       "height": null,
       "justify_content": null,
       "justify_items": null,
       "left": null,
       "margin": null,
       "max_height": null,
       "max_width": null,
       "min_height": null,
       "min_width": null,
       "object_fit": null,
       "object_position": null,
       "order": null,
       "overflow": null,
       "overflow_x": null,
       "overflow_y": null,
       "padding": null,
       "right": null,
       "top": null,
       "visibility": null,
       "width": null
      }
     },
     "f7ee5020d76d40dfadc7ded89db8e490": {
      "model_module": "@jupyter-widgets/controls",
      "model_module_version": "1.5.0",
      "model_name": "ProgressStyleModel",
      "state": {
       "_model_module": "@jupyter-widgets/controls",
       "_model_module_version": "1.5.0",
       "_model_name": "ProgressStyleModel",
       "_view_count": null,
       "_view_module": "@jupyter-widgets/base",
       "_view_module_version": "1.2.0",
       "_view_name": "StyleView",
       "bar_color": null,
       "description_width": ""
      }
     },
     "fbc421b6e9864e54b6f6b1d5502af4fa": {
      "model_module": "@jupyter-widgets/base",
      "model_module_version": "1.2.0",
      "model_name": "LayoutModel",
      "state": {
       "_model_module": "@jupyter-widgets/base",
       "_model_module_version": "1.2.0",
       "_model_name": "LayoutModel",
       "_view_count": null,
       "_view_module": "@jupyter-widgets/base",
       "_view_module_version": "1.2.0",
       "_view_name": "LayoutView",
       "align_content": null,
       "align_items": null,
       "align_self": null,
       "border": null,
       "bottom": null,
       "display": null,
       "flex": null,
       "flex_flow": null,
       "grid_area": null,
       "grid_auto_columns": null,
       "grid_auto_flow": null,
       "grid_auto_rows": null,
       "grid_column": null,
       "grid_gap": null,
       "grid_row": null,
       "grid_template_areas": null,
       "grid_template_columns": null,
       "grid_template_rows": null,
       "height": null,
       "justify_content": null,
       "justify_items": null,
       "left": null,
       "margin": null,
       "max_height": null,
       "max_width": null,
       "min_height": null,
       "min_width": null,
       "object_fit": null,
       "object_position": null,
       "order": null,
       "overflow": null,
       "overflow_x": null,
       "overflow_y": null,
       "padding": null,
       "right": null,
       "top": null,
       "visibility": null,
       "width": null
      }
     }
    },
    "version_major": 2,
    "version_minor": 0
   }
  }
 },
 "nbformat": 4,
 "nbformat_minor": 5
}
